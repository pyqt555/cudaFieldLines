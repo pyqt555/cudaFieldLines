{
 "cells": [
  {
   "cell_type": "code",
   "execution_count": 57,
   "metadata": {},
   "outputs": [],
   "source": [
    "import numpy as np\n",
    "import numba \n",
    "import math\n",
    "import time\n",
    "import cv2 as cv2\n",
    "import matplotlib.pyplot as plt"
   ]
  },
  {
   "cell_type": "markdown",
   "metadata": {},
   "source": [
    "charge=[x,y,c]"
   ]
  },
  {
   "cell_type": "code",
   "execution_count": 222,
   "metadata": {},
   "outputs": [],
   "source": [
    "X=0\n",
    "Y=1\n",
    "C=2\n",
    "TIMESCALE=1\n",
    "E0=1"
   ]
  },
  {
   "cell_type": "code",
   "execution_count": 223,
   "metadata": {},
   "outputs": [],
   "source": [
    "\n",
    "def compute_force(c1,c2):\n",
    "    c_dir=c1[C]*c2[C]\n",
    "    dist=np.sqrt(np.square(c1[X]-c2[X])+np.square(c1[Y]-c2[Y]))\n",
    "    dir_vec=[c1[X]-c2[X],c1[Y]-c2[Y]]\n",
    "    dir_len=dist\n",
    "    norm_vec=[dir_vec[X]/dir_len,dir_vec[Y]/dir_len]\n",
    "    return_const=(1/(4*math.pi*np.square(dist)*E0))*TIMESCALE*c_dir\n",
    "    return_vec=[norm_vec[X]*return_const,norm_vec[Y]*return_const]\n",
    "    return return_vec\n"
   ]
  },
  {
   "cell_type": "code",
   "execution_count": 224,
   "metadata": {},
   "outputs": [
    {
     "data": {
      "text/plain": [
       "[0.019894367886486918, 0.0]"
      ]
     },
     "execution_count": 224,
     "metadata": {},
     "output_type": "execute_result"
    }
   ],
   "source": [
    "compute_force([1,0,1],[-1,0,1])"
   ]
  },
  {
   "cell_type": "code",
   "execution_count": 244,
   "metadata": {},
   "outputs": [
    {
     "data": {
      "image/png": "[encoded data removed]",
      "text/plain": [
       "<Figure size 432x288 with 1 Axes>"
      ]
     },
     "metadata": {
      "needs_background": "light"
     },
     "output_type": "display_data"
    },
    {
     "data": {
      "text/plain": [
       "array([[-1.13882007e-03,  5.00000000e+00, -1.00000000e+00],\n",
       "       [-2.27764016e-03,  4.99999984e+00, -1.00000000e+00],\n",
       "       [-3.41646032e-03,  4.99999953e+00, -1.00000000e+00],\n",
       "       ...,\n",
       "       [ 9.79417026e+00, -7.46230567e-02,  1.00000000e+00],\n",
       "       [-1.00000000e+01,  0.00000000e+00, -1.00000000e+00],\n",
       "       [ 1.00000000e+01,  0.00000000e+00,  1.00000000e+00]])"
      ]
     },
     "execution_count": 244,
     "metadata": {},
     "output_type": "execute_result"
    }
   ],
   "source": [
    "lst=[]\n",
    "testcharge=[0,5,-1]\n",
    "for i in range(4630):\n",
    "    testcharge_dir=compute_force(testcharge,[-10,0,1])\n",
    "    testcharge_dir_2=compute_force(testcharge,[10,0,-1])\n",
    "    testcharge=[testcharge_dir[X]+testcharge[X]+testcharge_dir_2[X],testcharge_dir[Y]+testcharge[Y]+testcharge_dir_2[Y],testcharge[C]]\n",
    "    \n",
    "   \n",
    "    lst.append(testcharge)\n",
    "testcharge=[0,5,1]\n",
    "for i in range(4630):\n",
    "    testcharge_dir=compute_force(testcharge,[-10,0,1])\n",
    "    testcharge_dir_2=compute_force(testcharge,[10,0,-1])\n",
    "    testcharge=[testcharge_dir[X]+testcharge[X]+testcharge_dir_2[X],testcharge_dir[Y]+testcharge[Y]+testcharge_dir_2[Y],testcharge[C]]\n",
    "    \n",
    "   \n",
    "    lst.append(testcharge)\n",
    "testcharge=[0,2.5,-1]\n",
    "for i in range(3364):\n",
    "    testcharge_dir=compute_force(testcharge,[-10,0,1])\n",
    "    testcharge_dir_2=compute_force(testcharge,[10,0,-1])\n",
    "    testcharge=[testcharge_dir[X]+testcharge[X]+testcharge_dir_2[X],testcharge_dir[Y]+testcharge[Y]+testcharge_dir_2[Y],testcharge[C]]\n",
    "    \n",
    "   \n",
    "    lst.append(testcharge)\n",
    "testcharge=[0,2.5,1]\n",
    "for i in range(3364):\n",
    "    testcharge_dir=compute_force(testcharge,[-10,0,1])\n",
    "    testcharge_dir_2=compute_force(testcharge,[10,0,-1])\n",
    "    testcharge=[testcharge_dir[X]+testcharge[X]+testcharge_dir_2[X],testcharge_dir[Y]+testcharge[Y]+testcharge_dir_2[Y],testcharge[C]]\n",
    "    \n",
    "   \n",
    "    lst.append(testcharge)\n",
    "## underside\n",
    "testcharge=[0,-5,-1]\n",
    "for i in range(4630):\n",
    "    testcharge_dir=compute_force(testcharge,[-10,0,1])\n",
    "    testcharge_dir_2=compute_force(testcharge,[10,0,-1])\n",
    "    testcharge=[testcharge_dir[X]+testcharge[X]+testcharge_dir_2[X],testcharge_dir[Y]+testcharge[Y]+testcharge_dir_2[Y],testcharge[C]]\n",
    "    \n",
    "   \n",
    "    lst.append(testcharge)\n",
    "testcharge=[0,-5,1]\n",
    "for i in range(4630):\n",
    "    testcharge_dir=compute_force(testcharge,[-10,0,1])\n",
    "    testcharge_dir_2=compute_force(testcharge,[10,0,-1])\n",
    "    testcharge=[testcharge_dir[X]+testcharge[X]+testcharge_dir_2[X],testcharge_dir[Y]+testcharge[Y]+testcharge_dir_2[Y],testcharge[C]]\n",
    "    \n",
    "   \n",
    "    lst.append(testcharge)\n",
    "testcharge=[0,-2.5,-1]\n",
    "for i in range(3364):\n",
    "    testcharge_dir=compute_force(testcharge,[-10,0,1])\n",
    "    testcharge_dir_2=compute_force(testcharge,[10,0,-1])\n",
    "    testcharge=[testcharge_dir[X]+testcharge[X]+testcharge_dir_2[X],testcharge_dir[Y]+testcharge[Y]+testcharge_dir_2[Y],testcharge[C]]\n",
    "    \n",
    "   \n",
    "    lst.append(testcharge)\n",
    "testcharge=[0,-2.5,1]\n",
    "for i in range(3364):\n",
    "    testcharge_dir=compute_force(testcharge,[-10,0,1])\n",
    "    testcharge_dir_2=compute_force(testcharge,[10,0,-1])\n",
    "    testcharge=[testcharge_dir[X]+testcharge[X]+testcharge_dir_2[X],testcharge_dir[Y]+testcharge[Y]+testcharge_dir_2[Y],testcharge[C]]\n",
    "    \n",
    "   \n",
    "    lst.append(testcharge)\n",
    "## plot\n",
    "\n",
    "lst.append([-10,0,-1])\n",
    "lst.append([10,0,1])\n",
    "lst=np.array(lst)\n",
    "plt.plot(lst[:,0], lst[:,1],\",\")\n",
    "plt.show()\n",
    "lst"
   ]
  }
 ],
 "metadata": {
  "kernelspec": {
   "display_name": "Python 3.10.5 64-bit",
   "language": "python",
   "name": "python3"
  },
  "language_info": {
   "codemirror_mode": {
    "name": "ipython",
    "version": 3
   },
   "file_extension": ".py",
   "mimetype": "text/x-python",
   "name": "python",
   "nbconvert_exporter": "python",
   "pygments_lexer": "ipython3",
   "version": "3.10.5"
  },
  "orig_nbformat": 4,
  "vscode": {
   "interpreter": {
    "hash": "369f2c481f4da34e4445cda3fffd2e751bd1c4d706f27375911949ba6bb62e1c"
   }
  }
 },
 "nbformat": 4,
 "nbformat_minor": 2
}
