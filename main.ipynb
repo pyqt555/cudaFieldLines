{
  "cells": [
    {
      "cell_type": "markdown",
      "metadata": {
        "id": "view-in-github",
        "colab_type": "text"
      },
      "source": [
        "<a href=\"https://colab.research.google.com/github/pyqt555/cudaFieldLines/blob/master/main.ipynb\" target=\"_parent\"><img src=\"https://colab.research.google.com/assets/colab-badge.svg\" alt=\"Open In Colab\"/></a>"
      ]
    },
    {
      "cell_type": "code",
      "execution_count": 2,
      "metadata": {
        "id": "GZTUpS45fsBO"
      },
      "outputs": [],
      "source": [
        "import numpy as np\n",
        "import numba \n",
        "import math\n",
        "import time\n",
        "import cv2 as cv2\n",
        "import matplotlib.pyplot as plt"
      ]
    },
    {
      "cell_type": "markdown",
      "metadata": {
        "id": "rhqBBdvufsBS"
      },
      "source": [
        "charge=[x,y,c]"
      ]
    },
    {
      "cell_type": "code",
      "execution_count": 3,
      "metadata": {
        "id": "vXKutJAEfsBX"
      },
      "outputs": [],
      "source": [
        "X=0\n",
        "Y=1\n",
        "C=2\n",
        "TIMESCALE=1\n",
        "E0=1"
      ]
    },
    {
      "cell_type": "code",
      "execution_count": 3,
      "metadata": {
        "id": "pjUuJLiyfsBY"
      },
      "outputs": [],
      "source": [
        "def compute_force(c1,c2):\n",
        "\n",
        "    c_dir=c1[C]*c2[C]\n",
        "    dist=np.sqrt(np.square(c1[X]-c2[X])+np.square(c1[Y]-c2[Y]))\n",
        "    dir_vec=[c1[X]-c2[X],c1[Y]-c2[Y]]\n",
        "    dir_len=dist\n",
        "    norm_vec=[dir_vec[X]/dir_len,dir_vec[Y]/dir_len]\n",
        "    return_const=(1/(4*math.pi*np.square(dist)*E0))*TIMESCALE*c_dir\n",
        "    return_vec=[norm_vec[X]*return_const,norm_vec[Y]*return_const]\n",
        "    return return_vec\n"
      ]
    },
    {
      "cell_type": "code",
      "execution_count": 4,
      "metadata": {
        "colab": {
          "base_uri": "https://localhost:8080/"
        },
        "id": "7GpwVW9AfsBa",
        "outputId": "2415fdfc-ed43-40cc-87df-d66ce825448f"
      },
      "outputs": [
        {
          "output_type": "stream",
          "name": "stdout",
          "text": [
            "8.88 µs ± 177 ns per loop (mean ± std. dev. of 7 runs, 100000 loops each)\n"
          ]
        }
      ],
      "source": [
        "%timeit compute_force([1,0,1],[-1,0,1])"
      ]
    },
    {
      "cell_type": "code",
      "execution_count": 5,
      "metadata": {
        "colab": {
          "base_uri": "https://localhost:8080/",
          "height": 387
        },
        "id": "BmDWqVXcfsBb",
        "outputId": "e82786cc-42f9-4fdc-9bd4-40a06697e65f"
      },
      "outputs": [
        {
          "output_type": "display_data",
          "data": {
            "text/plain": [
              "<Figure size 432x288 with 1 Axes>"
            ],
            "image/png": "[encoded data removed]"
          },
          "metadata": {
            "needs_background": "light"
          }
        },
        {
          "output_type": "execute_result",
          "data": {
            "text/plain": [
              "array([[-1.13882007e-03,  5.00000000e+00, -1.00000000e+00],\n",
              "       [-2.27764016e-03,  4.99999984e+00, -1.00000000e+00],\n",
              "       [-3.41646032e-03,  4.99999953e+00, -1.00000000e+00],\n",
              "       ...,\n",
              "       [-1.52643141e+01, -4.73830829e+00, -1.00000000e+02],\n",
              "       [-1.00000000e+01,  0.00000000e+00, -1.00000000e+00],\n",
              "       [ 1.00000000e+01,  0.00000000e+00,  1.00000000e+00]])"
            ]
          },
          "metadata": {},
          "execution_count": 5
        }
      ],
      "source": [
        "lst=[]\n",
        "testcharge=[0,5,-1]\n",
        "for i in range(4630):\n",
        "    testcharge_dir=compute_force(testcharge,[-10,0,1])\n",
        "    testcharge_dir_2=compute_force(testcharge,[10,0,-1])\n",
        "    testcharge=[testcharge_dir[X]+testcharge[X]+testcharge_dir_2[X],testcharge_dir[Y]+testcharge[Y]+testcharge_dir_2[Y],testcharge[C]]\n",
        "    \n",
        "   \n",
        "    lst.append(testcharge)\n",
        "testcharge=[0,5,1]\n",
        "for i in range(4630):\n",
        "    testcharge_dir=compute_force(testcharge,[-10,0,1])\n",
        "    testcharge_dir_2=compute_force(testcharge,[10,0,-1])\n",
        "    testcharge=[testcharge_dir[X]+testcharge[X]+testcharge_dir_2[X],testcharge_dir[Y]+testcharge[Y]+testcharge_dir_2[Y],testcharge[C]]\n",
        "    \n",
        "   \n",
        "    lst.append(testcharge)\n",
        "testcharge=[0,2.5,-1]\n",
        "for i in range(3364):\n",
        "    testcharge_dir=compute_force(testcharge,[-10,0,1])\n",
        "    testcharge_dir_2=compute_force(testcharge,[10,0,-1])\n",
        "    testcharge=[testcharge_dir[X]+testcharge[X]+testcharge_dir_2[X],testcharge_dir[Y]+testcharge[Y]+testcharge_dir_2[Y],testcharge[C]]\n",
        "    \n",
        "   \n",
        "    lst.append(testcharge)\n",
        "testcharge=[0,2.5,1]\n",
        "for i in range(3364):\n",
        "    testcharge_dir=compute_force(testcharge,[-10,0,1])\n",
        "    testcharge_dir_2=compute_force(testcharge,[10,0,-1])\n",
        "    testcharge=[testcharge_dir[X]+testcharge[X]+testcharge_dir_2[X],testcharge_dir[Y]+testcharge[Y]+testcharge_dir_2[Y],testcharge[C]]\n",
        "    \n",
        "   \n",
        "    lst.append(testcharge)\n",
        "## underside\n",
        "testcharge=[0,-5,-1]\n",
        "for i in range(4630):\n",
        "    testcharge_dir=compute_force(testcharge,[-10,0,1])\n",
        "    testcharge_dir_2=compute_force(testcharge,[10,0,-1])\n",
        "    testcharge=[testcharge_dir[X]+testcharge[X]+testcharge_dir_2[X],testcharge_dir[Y]+testcharge[Y]+testcharge_dir_2[Y],testcharge[C]]\n",
        "    \n",
        "   \n",
        "    lst.append(testcharge)\n",
        "testcharge=[0,-5,1]\n",
        "for i in range(4630):\n",
        "    testcharge_dir=compute_force(testcharge,[-10,0,1])\n",
        "    testcharge_dir_2=compute_force(testcharge,[10,0,-1])\n",
        "    testcharge=[testcharge_dir[X]+testcharge[X]+testcharge_dir_2[X],testcharge_dir[Y]+testcharge[Y]+testcharge_dir_2[Y],testcharge[C]]\n",
        "    \n",
        "   \n",
        "    lst.append(testcharge)\n",
        "testcharge=[0,-80,100]\n",
        "for i in range(121400):\n",
        "    testcharge_dir=compute_force(testcharge,[-10,0,1])\n",
        "    testcharge_dir_2=compute_force(testcharge,[10,0,-1])\n",
        "    testcharge=[testcharge_dir[X]+testcharge[X]+testcharge_dir_2[X],testcharge_dir[Y]+testcharge[Y]+testcharge_dir_2[Y],testcharge[C]]\n",
        "    \n",
        "   \n",
        "    lst.append(testcharge)\n",
        "testcharge=[0,-80,-100]\n",
        "for i in range(121400):\n",
        "    testcharge_dir=compute_force(testcharge,[-10,0,1])\n",
        "    testcharge_dir_2=compute_force(testcharge,[10,0,-1])\n",
        "    testcharge=[testcharge_dir[X]+testcharge[X]+testcharge_dir_2[X],testcharge_dir[Y]+testcharge[Y]+testcharge_dir_2[Y],testcharge[C]]\n",
        "    \n",
        "   \n",
        "    lst.append(testcharge)\n",
        "## plot\n",
        "\n",
        "lst.append([-10,0,-1])\n",
        "lst.append([10,0,1])\n",
        "lst=np.array(lst)\n",
        "plt.plot(lst[:,0], lst[:,1],\",\")\n",
        "plt.show()\n",
        "lst"
      ]
    },
    {
      "cell_type": "markdown",
      "metadata": {
        "id": "HsnCIWSxfsBg"
      },
      "source": [
        "Numba Implementation(slow and wrong)"
      ]
    },
    {
      "cell_type": "code",
      "execution_count": 6,
      "metadata": {
        "id": "AcJ9PjjefsBh"
      },
      "outputs": [],
      "source": [
        "\n",
        "@numba.vectorize([\"float64(float64,float64,float64,float64,float64,float64)\"])\n",
        "def compute_forces(c1,c2,x1,x2,y1,y2):\n",
        "    c_dir=c1*c2\n",
        "    dist=(((x1-x2)**2)+((y1-y2)**2))**.5\n",
        "    dir_vec=[x1-x2,y1-y2]\n",
        "    dir_len=dist\n",
        "    norm_vec=[dir_vec[X]/dir_len,dir_vec[Y]/dir_len]\n",
        "    return_const=(1/(4*math.pi*(dist**2)*E0))*TIMESCALE*c_dir\n",
        "    return_vec=[norm_vec[X]*return_const,norm_vec[Y]*return_const]\n",
        "    return return_vec[0]"
      ]
    },
    {
      "cell_type": "code",
      "execution_count": 7,
      "metadata": {
        "colab": {
          "base_uri": "https://localhost:8080/"
        },
        "id": "rbeOgx2afsBi",
        "outputId": "28755f9e-06bf-4533-92a4-5cc9c47adc1e"
      },
      "outputs": [
        {
          "output_type": "execute_result",
          "data": {
            "text/plain": [
              "['dddddd->d']"
            ]
          },
          "metadata": {},
          "execution_count": 7
        }
      ],
      "source": [
        "compute_forces.ufunc.types"
      ]
    },
    {
      "cell_type": "code",
      "execution_count": 8,
      "metadata": {
        "colab": {
          "base_uri": "https://localhost:8080/"
        },
        "id": "DMn1HuYwfsBk",
        "outputId": "7ecefc7e-dd90-4d96-8a89-168ed8bfd61a"
      },
      "outputs": [
        {
          "output_type": "stream",
          "name": "stdout",
          "text": [
            "28.6 ms ± 636 µs per loop (mean ± std. dev. of 7 runs, 10 loops each)\n"
          ]
        }
      ],
      "source": [
        "test=np.random.random((6,100000))\n",
        "\n",
        "\n",
        "%timeit compute_forces(*test)"
      ]
    },
    {
      "cell_type": "markdown",
      "metadata": {
        "id": "qf8Pn2A5fsBl"
      },
      "source": [
        "Numba (fast)"
      ]
    },
    {
      "cell_type": "code",
      "execution_count": 4,
      "metadata": {
        "id": "5jvrG0j7fsBm"
      },
      "outputs": [],
      "source": [
        "from numba import float64\n",
        "@numba.guvectorize([(float64[:],float64[:],float64[:])], '(n),(n)->(n)',target=\"parallel\")\n",
        "def compute_force_guv(c1,c2,res):\n",
        "    c_dir=c1[C]*c2[C]\n",
        "    dist=((c1[X]-c2[X])**2+(c1[Y]-c2[Y])**2)**.5\n",
        "    dir_vec=[c1[X]-c2[X],c1[Y]-c2[Y]]\n",
        "    dir_len=dist\n",
        "    norm_vec=[dir_vec[X]/dir_len,dir_vec[Y]/dir_len]\n",
        "    return_const=(1/(4*math.pi*(dist**2)*E0))*TIMESCALE*c_dir*(-1)#-1 for correct direction\n",
        "    res[:]=[norm_vec[X]*return_const,norm_vec[Y]*return_const,0]\n",
        "    #print(res)"
      ]
    },
    {
      "cell_type": "code",
      "execution_count": null,
      "metadata": {
        "colab": {
          "base_uri": "https://localhost:8080/",
          "height": 416
        },
        "id": "O0JylFcLfsBm",
        "outputId": "aa68af2d-b12b-4bb2-ef82-2abb7be9f1a7"
      },
      "outputs": [
        {
          "output_type": "error",
          "ename": "ValueError",
          "evalue": "ignored",
          "traceback": [
            "\u001b[0;31m---------------------------------------------------------------------------\u001b[0m",
            "\u001b[0;31mValueError\u001b[0m                                Traceback (most recent call last)",
            "\u001b[0;32m<ipython-input-25-e5f4919d89d7>\u001b[0m in \u001b[0;36m<module>\u001b[0;34m\u001b[0m\n\u001b[1;32m      3\u001b[0m \u001b[0;34m\u001b[0m\u001b[0m\n\u001b[1;32m      4\u001b[0m \u001b[0;34m\u001b[0m\u001b[0m\n\u001b[0;32m----> 5\u001b[0;31m \u001b[0mget_ipython\u001b[0m\u001b[0;34m(\u001b[0m\u001b[0;34m)\u001b[0m\u001b[0;34m.\u001b[0m\u001b[0mrun_line_magic\u001b[0m\u001b[0;34m(\u001b[0m\u001b[0;34m'timeit'\u001b[0m\u001b[0;34m,\u001b[0m \u001b[0;34m'compute_force_guv(*test)'\u001b[0m\u001b[0;34m)\u001b[0m\u001b[0;34m\u001b[0m\u001b[0;34m\u001b[0m\u001b[0m\n\u001b[0m",
            "\u001b[0;32m/usr/local/lib/python3.7/dist-packages/IPython/core/interactiveshell.py\u001b[0m in \u001b[0;36mrun_line_magic\u001b[0;34m(self, magic_name, line, _stack_depth)\u001b[0m\n\u001b[1;32m   2312\u001b[0m                 \u001b[0mkwargs\u001b[0m\u001b[0;34m[\u001b[0m\u001b[0;34m'local_ns'\u001b[0m\u001b[0;34m]\u001b[0m \u001b[0;34m=\u001b[0m \u001b[0msys\u001b[0m\u001b[0;34m.\u001b[0m\u001b[0m_getframe\u001b[0m\u001b[0;34m(\u001b[0m\u001b[0mstack_depth\u001b[0m\u001b[0;34m)\u001b[0m\u001b[0;34m.\u001b[0m\u001b[0mf_locals\u001b[0m\u001b[0;34m\u001b[0m\u001b[0;34m\u001b[0m\u001b[0m\n\u001b[1;32m   2313\u001b[0m             \u001b[0;32mwith\u001b[0m \u001b[0mself\u001b[0m\u001b[0;34m.\u001b[0m\u001b[0mbuiltin_trap\u001b[0m\u001b[0;34m:\u001b[0m\u001b[0;34m\u001b[0m\u001b[0;34m\u001b[0m\u001b[0m\n\u001b[0;32m-> 2314\u001b[0;31m                 \u001b[0mresult\u001b[0m \u001b[0;34m=\u001b[0m \u001b[0mfn\u001b[0m\u001b[0;34m(\u001b[0m\u001b[0;34m*\u001b[0m\u001b[0margs\u001b[0m\u001b[0;34m,\u001b[0m \u001b[0;34m**\u001b[0m\u001b[0mkwargs\u001b[0m\u001b[0;34m)\u001b[0m\u001b[0;34m\u001b[0m\u001b[0;34m\u001b[0m\u001b[0m\n\u001b[0m\u001b[1;32m   2315\u001b[0m             \u001b[0;32mreturn\u001b[0m \u001b[0mresult\u001b[0m\u001b[0;34m\u001b[0m\u001b[0;34m\u001b[0m\u001b[0m\n\u001b[1;32m   2316\u001b[0m \u001b[0;34m\u001b[0m\u001b[0m\n",
            "\u001b[0;32m<decorator-gen-53>\u001b[0m in \u001b[0;36mtimeit\u001b[0;34m(self, line, cell, local_ns)\u001b[0m\n",
            "\u001b[0;32m/usr/local/lib/python3.7/dist-packages/IPython/core/magic.py\u001b[0m in \u001b[0;36m<lambda>\u001b[0;34m(f, *a, **k)\u001b[0m\n\u001b[1;32m    185\u001b[0m     \u001b[0;31m# but it's overkill for just that one bit of state.\u001b[0m\u001b[0;34m\u001b[0m\u001b[0;34m\u001b[0m\u001b[0;34m\u001b[0m\u001b[0m\n\u001b[1;32m    186\u001b[0m     \u001b[0;32mdef\u001b[0m \u001b[0mmagic_deco\u001b[0m\u001b[0;34m(\u001b[0m\u001b[0marg\u001b[0m\u001b[0;34m)\u001b[0m\u001b[0;34m:\u001b[0m\u001b[0;34m\u001b[0m\u001b[0;34m\u001b[0m\u001b[0m\n\u001b[0;32m--> 187\u001b[0;31m         \u001b[0mcall\u001b[0m \u001b[0;34m=\u001b[0m \u001b[0;32mlambda\u001b[0m \u001b[0mf\u001b[0m\u001b[0;34m,\u001b[0m \u001b[0;34m*\u001b[0m\u001b[0ma\u001b[0m\u001b[0;34m,\u001b[0m \u001b[0;34m**\u001b[0m\u001b[0mk\u001b[0m\u001b[0;34m:\u001b[0m \u001b[0mf\u001b[0m\u001b[0;34m(\u001b[0m\u001b[0;34m*\u001b[0m\u001b[0ma\u001b[0m\u001b[0;34m,\u001b[0m \u001b[0;34m**\u001b[0m\u001b[0mk\u001b[0m\u001b[0;34m)\u001b[0m\u001b[0;34m\u001b[0m\u001b[0;34m\u001b[0m\u001b[0m\n\u001b[0m\u001b[1;32m    188\u001b[0m \u001b[0;34m\u001b[0m\u001b[0m\n\u001b[1;32m    189\u001b[0m         \u001b[0;32mif\u001b[0m \u001b[0mcallable\u001b[0m\u001b[0;34m(\u001b[0m\u001b[0marg\u001b[0m\u001b[0;34m)\u001b[0m\u001b[0;34m:\u001b[0m\u001b[0;34m\u001b[0m\u001b[0;34m\u001b[0m\u001b[0m\n",
            "\u001b[0;32m/usr/local/lib/python3.7/dist-packages/IPython/core/magics/execution.py\u001b[0m in \u001b[0;36mtimeit\u001b[0;34m(self, line, cell, local_ns)\u001b[0m\n\u001b[1;32m   1156\u001b[0m             \u001b[0;32mfor\u001b[0m \u001b[0mindex\u001b[0m \u001b[0;32min\u001b[0m \u001b[0mrange\u001b[0m\u001b[0;34m(\u001b[0m\u001b[0;36m0\u001b[0m\u001b[0;34m,\u001b[0m \u001b[0;36m10\u001b[0m\u001b[0;34m)\u001b[0m\u001b[0;34m:\u001b[0m\u001b[0;34m\u001b[0m\u001b[0;34m\u001b[0m\u001b[0m\n\u001b[1;32m   1157\u001b[0m                 \u001b[0mnumber\u001b[0m \u001b[0;34m=\u001b[0m \u001b[0;36m10\u001b[0m \u001b[0;34m**\u001b[0m \u001b[0mindex\u001b[0m\u001b[0;34m\u001b[0m\u001b[0;34m\u001b[0m\u001b[0m\n\u001b[0;32m-> 1158\u001b[0;31m                 \u001b[0mtime_number\u001b[0m \u001b[0;34m=\u001b[0m \u001b[0mtimer\u001b[0m\u001b[0;34m.\u001b[0m\u001b[0mtimeit\u001b[0m\u001b[0;34m(\u001b[0m\u001b[0mnumber\u001b[0m\u001b[0;34m)\u001b[0m\u001b[0;34m\u001b[0m\u001b[0;34m\u001b[0m\u001b[0m\n\u001b[0m\u001b[1;32m   1159\u001b[0m                 \u001b[0;32mif\u001b[0m \u001b[0mtime_number\u001b[0m \u001b[0;34m>=\u001b[0m \u001b[0;36m0.2\u001b[0m\u001b[0;34m:\u001b[0m\u001b[0;34m\u001b[0m\u001b[0;34m\u001b[0m\u001b[0m\n\u001b[1;32m   1160\u001b[0m                     \u001b[0;32mbreak\u001b[0m\u001b[0;34m\u001b[0m\u001b[0;34m\u001b[0m\u001b[0m\n",
            "\u001b[0;32m/usr/local/lib/python3.7/dist-packages/IPython/core/magics/execution.py\u001b[0m in \u001b[0;36mtimeit\u001b[0;34m(self, number)\u001b[0m\n\u001b[1;32m    167\u001b[0m         \u001b[0mgc\u001b[0m\u001b[0;34m.\u001b[0m\u001b[0mdisable\u001b[0m\u001b[0;34m(\u001b[0m\u001b[0;34m)\u001b[0m\u001b[0;34m\u001b[0m\u001b[0;34m\u001b[0m\u001b[0m\n\u001b[1;32m    168\u001b[0m         \u001b[0;32mtry\u001b[0m\u001b[0;34m:\u001b[0m\u001b[0;34m\u001b[0m\u001b[0;34m\u001b[0m\u001b[0m\n\u001b[0;32m--> 169\u001b[0;31m             \u001b[0mtiming\u001b[0m \u001b[0;34m=\u001b[0m \u001b[0mself\u001b[0m\u001b[0;34m.\u001b[0m\u001b[0minner\u001b[0m\u001b[0;34m(\u001b[0m\u001b[0mit\u001b[0m\u001b[0;34m,\u001b[0m \u001b[0mself\u001b[0m\u001b[0;34m.\u001b[0m\u001b[0mtimer\u001b[0m\u001b[0;34m)\u001b[0m\u001b[0;34m\u001b[0m\u001b[0;34m\u001b[0m\u001b[0m\n\u001b[0m\u001b[1;32m    170\u001b[0m         \u001b[0;32mfinally\u001b[0m\u001b[0;34m:\u001b[0m\u001b[0;34m\u001b[0m\u001b[0;34m\u001b[0m\u001b[0m\n\u001b[1;32m    171\u001b[0m             \u001b[0;32mif\u001b[0m \u001b[0mgcold\u001b[0m\u001b[0;34m:\u001b[0m\u001b[0;34m\u001b[0m\u001b[0;34m\u001b[0m\u001b[0m\n",
            "\u001b[0;32m<magic-timeit>\u001b[0m in \u001b[0;36minner\u001b[0;34m(_it, _timer)\u001b[0m\n",
            "\u001b[0;32m/usr/local/lib/python3.7/dist-packages/numba/np/ufunc/gufunc.py\u001b[0m in \u001b[0;36m__call__\u001b[0;34m(self, *args, **kwargs)\u001b[0m\n\u001b[1;32m    168\u001b[0m         \u001b[0;31m# call the underlying gufunc\u001b[0m\u001b[0;34m\u001b[0m\u001b[0;34m\u001b[0m\u001b[0;34m\u001b[0m\u001b[0m\n\u001b[1;32m    169\u001b[0m         \u001b[0;32mif\u001b[0m \u001b[0mself\u001b[0m\u001b[0;34m.\u001b[0m\u001b[0m_frozen\u001b[0m \u001b[0;32mor\u001b[0m \u001b[0;32mnot\u001b[0m \u001b[0mself\u001b[0m\u001b[0;34m.\u001b[0m\u001b[0mis_dynamic\u001b[0m\u001b[0;34m:\u001b[0m\u001b[0;34m\u001b[0m\u001b[0;34m\u001b[0m\u001b[0m\n\u001b[0;32m--> 170\u001b[0;31m             \u001b[0;32mreturn\u001b[0m \u001b[0mself\u001b[0m\u001b[0;34m.\u001b[0m\u001b[0mufunc\u001b[0m\u001b[0;34m(\u001b[0m\u001b[0;34m*\u001b[0m\u001b[0margs\u001b[0m\u001b[0;34m,\u001b[0m \u001b[0;34m**\u001b[0m\u001b[0mkwargs\u001b[0m\u001b[0;34m)\u001b[0m\u001b[0;34m\u001b[0m\u001b[0;34m\u001b[0m\u001b[0m\n\u001b[0m\u001b[1;32m    171\u001b[0m         \u001b[0;32melif\u001b[0m \u001b[0;34m\"out\"\u001b[0m \u001b[0;32min\u001b[0m \u001b[0mkwargs\u001b[0m\u001b[0;34m:\u001b[0m\u001b[0;34m\u001b[0m\u001b[0;34m\u001b[0m\u001b[0m\n\u001b[1;32m    172\u001b[0m             \u001b[0;31m# If \"out\" argument is supplied\u001b[0m\u001b[0;34m\u001b[0m\u001b[0;34m\u001b[0m\u001b[0;34m\u001b[0m\u001b[0m\n",
            "\u001b[0;31mValueError\u001b[0m: cannot assign slice from input of different size"
          ]
        }
      ],
      "source": [
        "test=np.random.random((3,2,100))\n",
        "\n",
        "\n",
        "\n",
        "%timeit compute_force_guv(*test)"
      ]
    },
    {
      "cell_type": "code",
      "execution_count": null,
      "metadata": {
        "colab": {
          "base_uri": "https://localhost:8080/",
          "height": 35
        },
        "id": "yvPVOLcHfsBo",
        "outputId": "43a379f0-d0f4-4245-ad69-db04121e99e4"
      },
      "outputs": [
        {
          "output_type": "execute_result",
          "data": {
            "text/plain": [
              "'(n),(n)->(n)'"
            ],
            "application/vnd.google.colaboratory.intrinsic+json": {
              "type": "string"
            }
          },
          "metadata": {},
          "execution_count": 26
        }
      ],
      "source": [
        "compute_force_guv.ufunc.signature"
      ]
    },
    {
      "cell_type": "code",
      "execution_count": 5,
      "metadata": {
        "colab": {
          "base_uri": "https://localhost:8080/"
        },
        "id": "WktYHeNYfsBp",
        "outputId": "ae6980e3-5b1f-422e-a704-1d0ee6abd2f1"
      },
      "outputs": [
        {
          "output_type": "stream",
          "name": "stderr",
          "text": [
            "<ipython-input-5-8dc7cea2a33a>:3: NumbaWarning: \n",
            "Compilation is falling back to object mode WITH looplifting enabled because Function \"compute_vectors_guv_fixed_output\" failed type inference due to: Untyped global name 'compute_force_guv': Cannot determine Numba type of <class 'numpy.ufunc'>\n",
            "\n",
            "File \"<ipython-input-5-8dc7cea2a33a>\", line 5:\n",
            "def compute_vectors_guv_fixed_output(non_statics,statics):\n",
            "    f=compute_force_guv(non_statics,statics,np.zeros((statics.shape[0],3)))[:,:2]\n",
            "    ^\n",
            "\n",
            "  @numba.jit\n",
            "/usr/local/lib/python3.7/dist-packages/numba/core/object_mode_passes.py:152: NumbaWarning: Function \"compute_vectors_guv_fixed_output\" was compiled in object mode without forceobj=True.\n",
            "\n",
            "File \"<ipython-input-5-8dc7cea2a33a>\", line 4:\n",
            "@numba.jit\n",
            "def compute_vectors_guv_fixed_output(non_statics,statics):\n",
            "^\n",
            "\n",
            "  state.func_ir.loc))\n",
            "/usr/local/lib/python3.7/dist-packages/numba/core/object_mode_passes.py:162: NumbaDeprecationWarning: \n",
            "Fall-back from the nopython compilation path to the object mode compilation path has been detected, this is deprecated behaviour.\n",
            "\n",
            "For more information visit https://numba.readthedocs.io/en/stable/reference/deprecation.html#deprecation-of-object-mode-fall-back-behaviour-when-using-jit\n",
            "\n",
            "File \"<ipython-input-5-8dc7cea2a33a>\", line 4:\n",
            "@numba.jit\n",
            "def compute_vectors_guv_fixed_output(non_statics,statics):\n",
            "^\n",
            "\n",
            "  state.func_ir.loc))\n"
          ]
        },
        {
          "output_type": "execute_result",
          "data": {
            "text/plain": [
              "array([-0.05626977, -0.05626977])"
            ]
          },
          "metadata": {},
          "execution_count": 5
        }
      ],
      "source": [
        "test2=np.array([[[1,1,1],[2,2,2]]],dtype=\"float64\")\n",
        "res=np.zeros((2,3))\n",
        "@numba.jit\n",
        "def compute_vectors_guv_fixed_output(non_statics,statics):\n",
        "    f=compute_force_guv(non_statics,statics,np.zeros((statics.shape[0],3)))[:,:2]\n",
        "    return np.array([np.sum(f[:,0]),np.sum(f[:,1])])\n",
        "\n",
        "compute_vectors_guv_fixed_output(np.array([[0,0,1]]),np.array([[1,1,-1],[1,1,-1],[1,-1,1],[1,-1,-1]]))"
      ]
    },
    {
      "cell_type": "code",
      "execution_count": null,
      "metadata": {
        "colab": {
          "base_uri": "https://localhost:8080/"
        },
        "id": "0a4eCvpXfsBp",
        "outputId": "05309adf-c505-4806-e487-c842295c1af9"
      },
      "outputs": [
        {
          "output_type": "stream",
          "name": "stdout",
          "text": [
            "3.47 ms ± 72.5 µs per loop (mean ± std. dev. of 7 runs, 100 loops each)\n"
          ]
        }
      ],
      "source": [
        "\n",
        "%timeit compute_vectors_guv_fixed_output(np.random.random((10000,3)),np.random.random((10000,3)))"
      ]
    },
    {
      "cell_type": "code",
      "execution_count": 6,
      "metadata": {
        "id": "6vigKzoyfsBp"
      },
      "outputs": [],
      "source": [
        "#@numba.jit\n",
        "def compute_lines(statics,nonstatics):\n",
        "    nonstatics=nonstatics.copy()\n",
        "    positions=[]\n",
        "    for testcharge in nonstatics:\n",
        "      for i in range(int(10000/TIMESCALE)):\n",
        "        testcharge_dir=compute_vectors_guv_fixed_output([testcharge],statics)\n",
        "        \n",
        "        testcharge=[testcharge[X]+testcharge_dir[X],testcharge[Y]+testcharge_dir[Y],testcharge[C]]\n",
        "        \n",
        "        if (testcharge_dir[X]**2+testcharge_dir[Y]**2) >1:\n",
        "          #print(i)\n",
        "          #print(np.sum(testcharge_dir**2))\n",
        "          break\n",
        "   \n",
        "        positions.append(testcharge)\n",
        "    return positions\n",
        "        \n",
        "\n"
      ]
    },
    {
      "cell_type": "code",
      "source": [
        "pip install line_profiler"
      ],
      "metadata": {
        "colab": {
          "base_uri": "https://localhost:8080/"
        },
        "id": "MZJodNRMIXnV",
        "outputId": "39995e75-1a70-4634-edbd-8cdc47b42744"
      },
      "execution_count": null,
      "outputs": [
        {
          "output_type": "stream",
          "name": "stdout",
          "text": [
            "Looking in indexes: https://pypi.org/simple, https://us-python.pkg.dev/colab-wheels/public/simple/\n",
            "Collecting line_profiler\n",
            "  Downloading line_profiler-3.5.1-cp37-cp37m-manylinux_2_17_x86_64.manylinux2014_x86_64.whl (67 kB)\n",
            "\u001b[K     |████████████████████████████████| 67 kB 3.0 MB/s \n",
            "\u001b[?25hInstalling collected packages: line-profiler\n",
            "Successfully installed line-profiler-3.5.1\n"
          ]
        }
      ]
    },
    {
      "cell_type": "code",
      "source": [
        "%load_ext line_profiler"
      ],
      "metadata": {
        "id": "6JajjWRUIf6w"
      },
      "execution_count": 7,
      "outputs": []
    },
    {
      "cell_type": "code",
      "source": [
        "statics=np.random.random((200,3))*10\n",
        "statics=statics**2\n",
        "lst= compute_lines(statics,np.random.random((20000,3))*100)\n",
        "\n"
      ],
      "metadata": {
        "id": "yvlP-i61nxwH"
      },
      "execution_count": 62,
      "outputs": []
    },
    {
      "cell_type": "code",
      "source": [
        "lst=np.array(lst)\n",
        "plt.plot(lst[:,0], lst[:,1],\",\")\n",
        "plt.plot(statics[:,0], statics[:,1],\"o\")\n",
        "plt.show()\n",
        "lst"
      ],
      "metadata": {
        "colab": {
          "base_uri": "https://localhost:8080/",
          "height": 387
        },
        "id": "BpvocNUx3C0e",
        "outputId": "66e9970d-645a-4d00-d690-6f4c7e456b3a"
      },
      "execution_count": 63,
      "outputs": [
        {
          "output_type": "display_data",
          "data": {
            "text/plain": [
              "<Figure size 432x288 with 1 Axes>"
            ],
            "image/png": "[encoded data removed]"
          },
          "metadata": {
            "needs_background": "light"
          }
        },
        {
          "output_type": "execute_result",
          "data": {
            "text/plain": [
              "array([[57.68607525, 15.4051711 ,  2.30188764],\n",
              "       [57.23804936, 15.28068545,  2.30188764],\n",
              "       [56.75424554, 15.14393136,  2.30188764],\n",
              "       ...,\n",
              "       [71.58383676, 42.21187537,  5.01688561],\n",
              "       [70.81621939, 41.77201224,  5.01688561],\n",
              "       [69.99599536, 41.30030698,  5.01688561]])"
            ]
          },
          "metadata": {},
          "execution_count": 63
        }
      ]
    },
    {
      "cell_type": "code",
      "source": [
        "TIMESCALE=.01"
      ],
      "metadata": {
        "id": "JirGpciX2oy9"
      },
      "execution_count": 52,
      "outputs": []
    }
  ],
  "metadata": {
    "kernelspec": {
      "display_name": "Python 3.11.0 64-bit",
      "language": "python",
      "name": "python3"
    },
    "language_info": {
      "codemirror_mode": {
        "name": "ipython",
        "version": 3
      },
      "file_extension": ".py",
      "mimetype": "text/x-python",
      "name": "python",
      "nbconvert_exporter": "python",
      "pygments_lexer": "ipython3",
      "version": "3.11.0"
    },
    "orig_nbformat": 4,
    "vscode": {
      "interpreter": {
        "hash": "5238573367df39f7286bb46f9ff5f08f63a01a80960060ce41e3c79b190280fa"
      }
    },
    "colab": {
      "provenance": [],
      "collapsed_sections": [],
      "include_colab_link": true
    }
  },
  "nbformat": 4,
  "nbformat_minor": 0
}