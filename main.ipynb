{
 "cells": [
  {
   "cell_type": "code",
   "execution_count": 4,
   "metadata": {},
   "outputs": [],
   "source": [
    "import numpy as np\n",
    "import numba \n",
    "import math\n",
    "import time\n",
    "import cv2 as cv2\n",
    "import matplotlib.pyplot as plt"
   ]
  },
  {
   "cell_type": "markdown",
   "metadata": {},
   "source": [
    "charge=[x,y,c]"
   ]
  },
  {
   "cell_type": "code",
   "execution_count": 5,
   "metadata": {},
   "outputs": [],
   "source": [
    "X=0\n",
    "Y=1\n",
    "C=2\n",
    "TIMESCALE=1\n",
    "E0=1"
   ]
  },
  {
   "cell_type": "code",
   "execution_count": 11,
   "metadata": {},
   "outputs": [
    {
     "ename": "TypeError",
     "evalue": "Failed in cuda mode pipeline (step: fix up args)\nSignature mismatch: 3 argument types given, but function takes 2 arguments",
     "output_type": "error",
     "traceback": [
      "\u001b[1;31m---------------------------------------------------------------------------\u001b[0m",
      "\u001b[1;31mTypeError\u001b[0m                                 Traceback (most recent call last)",
      "Cell \u001b[1;32mIn [11], line 4\u001b[0m\n\u001b[0;32m      1\u001b[0m \u001b[38;5;129;43m@numba\u001b[39;49m\u001b[38;5;241;43m.\u001b[39;49m\u001b[43mvectorize\u001b[49m\u001b[43m(\u001b[49m\u001b[43m[\u001b[49m\u001b[38;5;124;43m'\u001b[39;49m\u001b[38;5;124;43mfloat32(float32, float32, float32)\u001b[39;49m\u001b[38;5;124;43m'\u001b[39;49m\u001b[43m,\u001b[49m\n\u001b[0;32m      2\u001b[0m \u001b[43m            \u001b[49m\u001b[38;5;124;43m'\u001b[39;49m\u001b[38;5;124;43mfloat64(float64, float64, float64)\u001b[39;49m\u001b[38;5;124;43m'\u001b[39;49m\u001b[43m]\u001b[49m\u001b[43m,\u001b[49m\n\u001b[0;32m      3\u001b[0m \u001b[43m           \u001b[49m\u001b[43mtarget\u001b[49m\u001b[38;5;241;43m=\u001b[39;49m\u001b[38;5;124;43m'\u001b[39;49m\u001b[38;5;124;43mcuda\u001b[39;49m\u001b[38;5;124;43m'\u001b[39;49m\u001b[43m)\u001b[49m\n\u001b[1;32m----> 4\u001b[0m \u001b[38;5;28;43;01mdef\u001b[39;49;00m\u001b[43m \u001b[49m\u001b[38;5;21;43mcompute_force\u001b[39;49m\u001b[43m(\u001b[49m\u001b[43mc1\u001b[49m\u001b[43m,\u001b[49m\u001b[43mc2\u001b[49m\u001b[43m)\u001b[49m\u001b[43m:\u001b[49m\n\u001b[0;32m      5\u001b[0m \u001b[43m    \u001b[49m\u001b[43mc_dir\u001b[49m\u001b[38;5;241;43m=\u001b[39;49m\u001b[43mc1\u001b[49m\u001b[43m[\u001b[49m\u001b[43mC\u001b[49m\u001b[43m]\u001b[49m\u001b[38;5;241;43m*\u001b[39;49m\u001b[43mc2\u001b[49m\u001b[43m[\u001b[49m\u001b[43mC\u001b[49m\u001b[43m]\u001b[49m\n\u001b[0;32m      6\u001b[0m \u001b[43m    \u001b[49m\u001b[43mdist\u001b[49m\u001b[38;5;241;43m=\u001b[39;49m\u001b[43mnp\u001b[49m\u001b[38;5;241;43m.\u001b[39;49m\u001b[43msqrt\u001b[49m\u001b[43m(\u001b[49m\u001b[43mnp\u001b[49m\u001b[38;5;241;43m.\u001b[39;49m\u001b[43msquare\u001b[49m\u001b[43m(\u001b[49m\u001b[43mc1\u001b[49m\u001b[43m[\u001b[49m\u001b[43mX\u001b[49m\u001b[43m]\u001b[49m\u001b[38;5;241;43m-\u001b[39;49m\u001b[43mc2\u001b[49m\u001b[43m[\u001b[49m\u001b[43mX\u001b[49m\u001b[43m]\u001b[49m\u001b[43m)\u001b[49m\u001b[38;5;241;43m+\u001b[39;49m\u001b[43mnp\u001b[49m\u001b[38;5;241;43m.\u001b[39;49m\u001b[43msquare\u001b[49m\u001b[43m(\u001b[49m\u001b[43mc1\u001b[49m\u001b[43m[\u001b[49m\u001b[43mY\u001b[49m\u001b[43m]\u001b[49m\u001b[38;5;241;43m-\u001b[39;49m\u001b[43mc2\u001b[49m\u001b[43m[\u001b[49m\u001b[43mY\u001b[49m\u001b[43m]\u001b[49m\u001b[43m)\u001b[49m\u001b[43m)\u001b[49m\n",
      "File \u001b[1;32mc:\\Users\\bjste\\.conda\\envs\\tf-gpu\\lib\\site-packages\\numba\\np\\ufunc\\decorators.py:125\u001b[0m, in \u001b[0;36mvectorize.<locals>.wrap\u001b[1;34m(func)\u001b[0m\n\u001b[0;32m    123\u001b[0m vec \u001b[39m=\u001b[39m Vectorize(func, \u001b[39m*\u001b[39m\u001b[39m*\u001b[39mkws)\n\u001b[0;32m    124\u001b[0m \u001b[39mfor\u001b[39;00m sig \u001b[39min\u001b[39;00m ftylist:\n\u001b[1;32m--> 125\u001b[0m     vec\u001b[39m.\u001b[39;49madd(sig)\n\u001b[0;32m    126\u001b[0m \u001b[39mif\u001b[39;00m \u001b[39mlen\u001b[39m(ftylist) \u001b[39m>\u001b[39m \u001b[39m0\u001b[39m:\n\u001b[0;32m    127\u001b[0m     vec\u001b[39m.\u001b[39mdisable_compile()\n",
      "File \u001b[1;32mc:\\Users\\bjste\\.conda\\envs\\tf-gpu\\lib\\site-packages\\numba\\np\\ufunc\\deviceufunc.py:399\u001b[0m, in \u001b[0;36mDeviceVectorize.add\u001b[1;34m(***failed resolving arguments***)\u001b[0m\n\u001b[0;32m    396\u001b[0m funcname \u001b[39m=\u001b[39m \u001b[39mself\u001b[39m\u001b[39m.\u001b[39mpyfunc\u001b[39m.\u001b[39m\u001b[39m__name__\u001b[39m\n\u001b[0;32m    397\u001b[0m kernelsource \u001b[39m=\u001b[39m \u001b[39mself\u001b[39m\u001b[39m.\u001b[39m_get_kernel_source(\u001b[39mself\u001b[39m\u001b[39m.\u001b[39m_kernel_template,\n\u001b[0;32m    398\u001b[0m                                        devfnsig, funcname)\n\u001b[1;32m--> 399\u001b[0m corefn, return_type \u001b[39m=\u001b[39m \u001b[39mself\u001b[39;49m\u001b[39m.\u001b[39;49m_compile_core(devfnsig)\n\u001b[0;32m    400\u001b[0m glbl \u001b[39m=\u001b[39m \u001b[39mself\u001b[39m\u001b[39m.\u001b[39m_get_globals(corefn)\n\u001b[0;32m    401\u001b[0m sig \u001b[39m=\u001b[39m signature(types\u001b[39m.\u001b[39mvoid, \u001b[39m*\u001b[39m([a[:] \u001b[39mfor\u001b[39;00m a \u001b[39min\u001b[39;00m args] \u001b[39m+\u001b[39m [return_type[:]]))\n",
      "File \u001b[1;32mc:\\Users\\bjste\\.conda\\envs\\tf-gpu\\lib\\site-packages\\numba\\cuda\\vectorizers.py:205\u001b[0m, in \u001b[0;36mCUDAVectorize._compile_core\u001b[1;34m(self, sig)\u001b[0m\n\u001b[0;32m    204\u001b[0m \u001b[39mdef\u001b[39;00m \u001b[39m_compile_core\u001b[39m(\u001b[39mself\u001b[39m, sig):\n\u001b[1;32m--> 205\u001b[0m     cudevfn \u001b[39m=\u001b[39m cuda\u001b[39m.\u001b[39;49mjit(sig, device\u001b[39m=\u001b[39;49m\u001b[39mTrue\u001b[39;49;00m, inline\u001b[39m=\u001b[39;49m\u001b[39mTrue\u001b[39;49;00m)(\u001b[39mself\u001b[39;49m\u001b[39m.\u001b[39;49mpyfunc)\n\u001b[0;32m    206\u001b[0m     \u001b[39mreturn\u001b[39;00m cudevfn, cudevfn\u001b[39m.\u001b[39moverloads[sig\u001b[39m.\u001b[39margs]\u001b[39m.\u001b[39msignature\u001b[39m.\u001b[39mreturn_type\n",
      "File \u001b[1;32mc:\\Users\\bjste\\.conda\\envs\\tf-gpu\\lib\\site-packages\\numba\\cuda\\decorators.py:113\u001b[0m, in \u001b[0;36mjit.<locals>._jit\u001b[1;34m(func)\u001b[0m\n\u001b[0;32m    111\u001b[0m     \u001b[39mfrom\u001b[39;00m \u001b[39mnumba\u001b[39;00m\u001b[39m.\u001b[39;00m\u001b[39mcore\u001b[39;00m \u001b[39mimport\u001b[39;00m typeinfer\n\u001b[0;32m    112\u001b[0m     \u001b[39mwith\u001b[39;00m typeinfer\u001b[39m.\u001b[39mregister_dispatcher(disp):\n\u001b[1;32m--> 113\u001b[0m         disp\u001b[39m.\u001b[39;49mcompile_device(argtypes)\n\u001b[0;32m    114\u001b[0m \u001b[39melse\u001b[39;00m:\n\u001b[0;32m    115\u001b[0m     disp\u001b[39m.\u001b[39mcompile(argtypes)\n",
      "File \u001b[1;32mc:\\Users\\bjste\\.conda\\envs\\tf-gpu\\lib\\site-packages\\numba\\cuda\\dispatcher.py:747\u001b[0m, in \u001b[0;36mCUDADispatcher.compile_device\u001b[1;34m(self, args)\u001b[0m\n\u001b[0;32m    739\u001b[0m fastmath \u001b[39m=\u001b[39m \u001b[39mself\u001b[39m\u001b[39m.\u001b[39mtargetoptions\u001b[39m.\u001b[39mget(\u001b[39m'\u001b[39m\u001b[39mfastmath\u001b[39m\u001b[39m'\u001b[39m)\n\u001b[0;32m    741\u001b[0m nvvm_options \u001b[39m=\u001b[39m {\n\u001b[0;32m    742\u001b[0m     \u001b[39m'\u001b[39m\u001b[39mdebug\u001b[39m\u001b[39m'\u001b[39m: debug,\n\u001b[0;32m    743\u001b[0m     \u001b[39m'\u001b[39m\u001b[39mopt\u001b[39m\u001b[39m'\u001b[39m: \u001b[39m3\u001b[39m \u001b[39mif\u001b[39;00m \u001b[39mself\u001b[39m\u001b[39m.\u001b[39mtargetoptions\u001b[39m.\u001b[39mget(\u001b[39m'\u001b[39m\u001b[39mopt\u001b[39m\u001b[39m'\u001b[39m) \u001b[39melse\u001b[39;00m \u001b[39m0\u001b[39m,\n\u001b[0;32m    744\u001b[0m     \u001b[39m'\u001b[39m\u001b[39mfastmath\u001b[39m\u001b[39m'\u001b[39m: fastmath\n\u001b[0;32m    745\u001b[0m }\n\u001b[1;32m--> 747\u001b[0m cres \u001b[39m=\u001b[39m compile_cuda(\u001b[39mself\u001b[39;49m\u001b[39m.\u001b[39;49mpy_func, \u001b[39mNone\u001b[39;49;00m, args,\n\u001b[0;32m    748\u001b[0m                     debug\u001b[39m=\u001b[39;49mdebug,\n\u001b[0;32m    749\u001b[0m                     inline\u001b[39m=\u001b[39;49minline,\n\u001b[0;32m    750\u001b[0m                     fastmath\u001b[39m=\u001b[39;49mfastmath,\n\u001b[0;32m    751\u001b[0m                     nvvm_options\u001b[39m=\u001b[39;49mnvvm_options)\n\u001b[0;32m    752\u001b[0m \u001b[39mself\u001b[39m\u001b[39m.\u001b[39moverloads[args] \u001b[39m=\u001b[39m cres\n\u001b[0;32m    754\u001b[0m cres\u001b[39m.\u001b[39mtarget_context\u001b[39m.\u001b[39minsert_user_function(cres\u001b[39m.\u001b[39mentry_point,\n\u001b[0;32m    755\u001b[0m                                          cres\u001b[39m.\u001b[39mfndesc,\n\u001b[0;32m    756\u001b[0m                                          [cres\u001b[39m.\u001b[39mlibrary])\n",
      "File \u001b[1;32mc:\\Users\\bjste\\.conda\\envs\\tf-gpu\\lib\\site-packages\\numba\\core\\compiler_lock.py:35\u001b[0m, in \u001b[0;36m_CompilerLock.__call__.<locals>._acquire_compile_lock\u001b[1;34m(*args, **kwargs)\u001b[0m\n\u001b[0;32m     32\u001b[0m \u001b[39m@functools\u001b[39m\u001b[39m.\u001b[39mwraps(func)\n\u001b[0;32m     33\u001b[0m \u001b[39mdef\u001b[39;00m \u001b[39m_acquire_compile_lock\u001b[39m(\u001b[39m*\u001b[39margs, \u001b[39m*\u001b[39m\u001b[39m*\u001b[39mkwargs):\n\u001b[0;32m     34\u001b[0m     \u001b[39mwith\u001b[39;00m \u001b[39mself\u001b[39m:\n\u001b[1;32m---> 35\u001b[0m         \u001b[39mreturn\u001b[39;00m func(\u001b[39m*\u001b[39margs, \u001b[39m*\u001b[39m\u001b[39m*\u001b[39mkwargs)\n",
      "File \u001b[1;32mc:\\Users\\bjste\\.conda\\envs\\tf-gpu\\lib\\site-packages\\numba\\cuda\\compiler.py:210\u001b[0m, in \u001b[0;36mcompile_cuda\u001b[1;34m(pyfunc, return_type, args, debug, lineinfo, inline, fastmath, nvvm_options)\u001b[0m\n\u001b[0;32m    207\u001b[0m     flags\u001b[39m.\u001b[39mnvvm_options \u001b[39m=\u001b[39m nvvm_options\n\u001b[0;32m    209\u001b[0m \u001b[39m# Run compilation pipeline\u001b[39;00m\n\u001b[1;32m--> 210\u001b[0m cres \u001b[39m=\u001b[39m compiler\u001b[39m.\u001b[39;49mcompile_extra(typingctx\u001b[39m=\u001b[39;49mtypingctx,\n\u001b[0;32m    211\u001b[0m                               targetctx\u001b[39m=\u001b[39;49mtargetctx,\n\u001b[0;32m    212\u001b[0m                               func\u001b[39m=\u001b[39;49mpyfunc,\n\u001b[0;32m    213\u001b[0m                               args\u001b[39m=\u001b[39;49margs,\n\u001b[0;32m    214\u001b[0m                               return_type\u001b[39m=\u001b[39;49mreturn_type,\n\u001b[0;32m    215\u001b[0m                               flags\u001b[39m=\u001b[39;49mflags,\n\u001b[0;32m    216\u001b[0m                               \u001b[39mlocals\u001b[39;49m\u001b[39m=\u001b[39;49m{},\n\u001b[0;32m    217\u001b[0m                               pipeline_class\u001b[39m=\u001b[39;49mCUDACompiler)\n\u001b[0;32m    219\u001b[0m library \u001b[39m=\u001b[39m cres\u001b[39m.\u001b[39mlibrary\n\u001b[0;32m    220\u001b[0m library\u001b[39m.\u001b[39mfinalize()\n",
      "File \u001b[1;32mc:\\Users\\bjste\\.conda\\envs\\tf-gpu\\lib\\site-packages\\numba\\core\\compiler.py:716\u001b[0m, in \u001b[0;36mcompile_extra\u001b[1;34m(typingctx, targetctx, func, args, return_type, flags, locals, library, pipeline_class)\u001b[0m\n\u001b[0;32m    692\u001b[0m \u001b[39m\"\"\"Compiler entry point\u001b[39;00m\n\u001b[0;32m    693\u001b[0m \n\u001b[0;32m    694\u001b[0m \u001b[39mParameter\u001b[39;00m\n\u001b[1;32m   (...)\u001b[0m\n\u001b[0;32m    712\u001b[0m \u001b[39m    compiler pipeline\u001b[39;00m\n\u001b[0;32m    713\u001b[0m \u001b[39m\"\"\"\u001b[39;00m\n\u001b[0;32m    714\u001b[0m pipeline \u001b[39m=\u001b[39m pipeline_class(typingctx, targetctx, library,\n\u001b[0;32m    715\u001b[0m                           args, return_type, flags, \u001b[39mlocals\u001b[39m)\n\u001b[1;32m--> 716\u001b[0m \u001b[39mreturn\u001b[39;00m pipeline\u001b[39m.\u001b[39;49mcompile_extra(func)\n",
      "File \u001b[1;32mc:\\Users\\bjste\\.conda\\envs\\tf-gpu\\lib\\site-packages\\numba\\core\\compiler.py:452\u001b[0m, in \u001b[0;36mCompilerBase.compile_extra\u001b[1;34m(self, func)\u001b[0m\n\u001b[0;32m    450\u001b[0m \u001b[39mself\u001b[39m\u001b[39m.\u001b[39mstate\u001b[39m.\u001b[39mlifted \u001b[39m=\u001b[39m ()\n\u001b[0;32m    451\u001b[0m \u001b[39mself\u001b[39m\u001b[39m.\u001b[39mstate\u001b[39m.\u001b[39mlifted_from \u001b[39m=\u001b[39m \u001b[39mNone\u001b[39;00m\n\u001b[1;32m--> 452\u001b[0m \u001b[39mreturn\u001b[39;00m \u001b[39mself\u001b[39;49m\u001b[39m.\u001b[39;49m_compile_bytecode()\n",
      "File \u001b[1;32mc:\\Users\\bjste\\.conda\\envs\\tf-gpu\\lib\\site-packages\\numba\\core\\compiler.py:520\u001b[0m, in \u001b[0;36mCompilerBase._compile_bytecode\u001b[1;34m(self)\u001b[0m\n\u001b[0;32m    516\u001b[0m \u001b[39m\"\"\"\u001b[39;00m\n\u001b[0;32m    517\u001b[0m \u001b[39mPopulate and run pipeline for bytecode input\u001b[39;00m\n\u001b[0;32m    518\u001b[0m \u001b[39m\"\"\"\u001b[39;00m\n\u001b[0;32m    519\u001b[0m \u001b[39massert\u001b[39;00m \u001b[39mself\u001b[39m\u001b[39m.\u001b[39mstate\u001b[39m.\u001b[39mfunc_ir \u001b[39mis\u001b[39;00m \u001b[39mNone\u001b[39;00m\n\u001b[1;32m--> 520\u001b[0m \u001b[39mreturn\u001b[39;00m \u001b[39mself\u001b[39;49m\u001b[39m.\u001b[39;49m_compile_core()\n",
      "File \u001b[1;32mc:\\Users\\bjste\\.conda\\envs\\tf-gpu\\lib\\site-packages\\numba\\core\\compiler.py:499\u001b[0m, in \u001b[0;36mCompilerBase._compile_core\u001b[1;34m(self)\u001b[0m\n\u001b[0;32m    497\u001b[0m         \u001b[39mself\u001b[39m\u001b[39m.\u001b[39mstate\u001b[39m.\u001b[39mstatus\u001b[39m.\u001b[39mfail_reason \u001b[39m=\u001b[39m e\n\u001b[0;32m    498\u001b[0m         \u001b[39mif\u001b[39;00m is_final_pipeline:\n\u001b[1;32m--> 499\u001b[0m             \u001b[39mraise\u001b[39;00m e\n\u001b[0;32m    500\u001b[0m \u001b[39melse\u001b[39;00m:\n\u001b[0;32m    501\u001b[0m     \u001b[39mraise\u001b[39;00m CompilerError(\u001b[39m\"\u001b[39m\u001b[39mAll available pipelines exhausted\u001b[39m\u001b[39m\"\u001b[39m)\n",
      "File \u001b[1;32mc:\\Users\\bjste\\.conda\\envs\\tf-gpu\\lib\\site-packages\\numba\\core\\compiler.py:486\u001b[0m, in \u001b[0;36mCompilerBase._compile_core\u001b[1;34m(self)\u001b[0m\n\u001b[0;32m    484\u001b[0m res \u001b[39m=\u001b[39m \u001b[39mNone\u001b[39;00m\n\u001b[0;32m    485\u001b[0m \u001b[39mtry\u001b[39;00m:\n\u001b[1;32m--> 486\u001b[0m     pm\u001b[39m.\u001b[39;49mrun(\u001b[39mself\u001b[39;49m\u001b[39m.\u001b[39;49mstate)\n\u001b[0;32m    487\u001b[0m     \u001b[39mif\u001b[39;00m \u001b[39mself\u001b[39m\u001b[39m.\u001b[39mstate\u001b[39m.\u001b[39mcr \u001b[39mis\u001b[39;00m \u001b[39mnot\u001b[39;00m \u001b[39mNone\u001b[39;00m:\n\u001b[0;32m    488\u001b[0m         \u001b[39mbreak\u001b[39;00m\n",
      "File \u001b[1;32mc:\\Users\\bjste\\.conda\\envs\\tf-gpu\\lib\\site-packages\\numba\\core\\compiler_machinery.py:368\u001b[0m, in \u001b[0;36mPassManager.run\u001b[1;34m(self, state)\u001b[0m\n\u001b[0;32m    365\u001b[0m msg \u001b[39m=\u001b[39m \u001b[39m\"\u001b[39m\u001b[39mFailed in \u001b[39m\u001b[39m%s\u001b[39;00m\u001b[39m mode pipeline (step: \u001b[39m\u001b[39m%s\u001b[39;00m\u001b[39m)\u001b[39m\u001b[39m\"\u001b[39m \u001b[39m%\u001b[39m \\\n\u001b[0;32m    366\u001b[0m     (\u001b[39mself\u001b[39m\u001b[39m.\u001b[39mpipeline_name, pass_desc)\n\u001b[0;32m    367\u001b[0m patched_exception \u001b[39m=\u001b[39m \u001b[39mself\u001b[39m\u001b[39m.\u001b[39m_patch_error(msg, e)\n\u001b[1;32m--> 368\u001b[0m \u001b[39mraise\u001b[39;00m patched_exception\n",
      "File \u001b[1;32mc:\\Users\\bjste\\.conda\\envs\\tf-gpu\\lib\\site-packages\\numba\\core\\compiler_machinery.py:356\u001b[0m, in \u001b[0;36mPassManager.run\u001b[1;34m(self, state)\u001b[0m\n\u001b[0;32m    354\u001b[0m pass_inst \u001b[39m=\u001b[39m _pass_registry\u001b[39m.\u001b[39mget(pss)\u001b[39m.\u001b[39mpass_inst\n\u001b[0;32m    355\u001b[0m \u001b[39mif\u001b[39;00m \u001b[39misinstance\u001b[39m(pass_inst, CompilerPass):\n\u001b[1;32m--> 356\u001b[0m     \u001b[39mself\u001b[39;49m\u001b[39m.\u001b[39;49m_runPass(idx, pass_inst, state)\n\u001b[0;32m    357\u001b[0m \u001b[39melse\u001b[39;00m:\n\u001b[0;32m    358\u001b[0m     \u001b[39mraise\u001b[39;00m \u001b[39mBaseException\u001b[39;00m(\u001b[39m\"\u001b[39m\u001b[39mLegacy pass in use\u001b[39m\u001b[39m\"\u001b[39m)\n",
      "File \u001b[1;32mc:\\Users\\bjste\\.conda\\envs\\tf-gpu\\lib\\site-packages\\numba\\core\\compiler_lock.py:35\u001b[0m, in \u001b[0;36m_CompilerLock.__call__.<locals>._acquire_compile_lock\u001b[1;34m(*args, **kwargs)\u001b[0m\n\u001b[0;32m     32\u001b[0m \u001b[39m@functools\u001b[39m\u001b[39m.\u001b[39mwraps(func)\n\u001b[0;32m     33\u001b[0m \u001b[39mdef\u001b[39;00m \u001b[39m_acquire_compile_lock\u001b[39m(\u001b[39m*\u001b[39margs, \u001b[39m*\u001b[39m\u001b[39m*\u001b[39mkwargs):\n\u001b[0;32m     34\u001b[0m     \u001b[39mwith\u001b[39;00m \u001b[39mself\u001b[39m:\n\u001b[1;32m---> 35\u001b[0m         \u001b[39mreturn\u001b[39;00m func(\u001b[39m*\u001b[39margs, \u001b[39m*\u001b[39m\u001b[39m*\u001b[39mkwargs)\n",
      "File \u001b[1;32mc:\\Users\\bjste\\.conda\\envs\\tf-gpu\\lib\\site-packages\\numba\\core\\compiler_machinery.py:311\u001b[0m, in \u001b[0;36mPassManager._runPass\u001b[1;34m(self, index, pss, internal_state)\u001b[0m\n\u001b[0;32m    309\u001b[0m     mutated \u001b[39m|\u001b[39m\u001b[39m=\u001b[39m check(pss\u001b[39m.\u001b[39mrun_initialization, internal_state)\n\u001b[0;32m    310\u001b[0m \u001b[39mwith\u001b[39;00m SimpleTimer() \u001b[39mas\u001b[39;00m pass_time:\n\u001b[1;32m--> 311\u001b[0m     mutated \u001b[39m|\u001b[39m\u001b[39m=\u001b[39m check(pss\u001b[39m.\u001b[39;49mrun_pass, internal_state)\n\u001b[0;32m    312\u001b[0m \u001b[39mwith\u001b[39;00m SimpleTimer() \u001b[39mas\u001b[39;00m finalize_time:\n\u001b[0;32m    313\u001b[0m     mutated \u001b[39m|\u001b[39m\u001b[39m=\u001b[39m check(pss\u001b[39m.\u001b[39mrun_finalizer, internal_state)\n",
      "File \u001b[1;32mc:\\Users\\bjste\\.conda\\envs\\tf-gpu\\lib\\site-packages\\numba\\core\\compiler_machinery.py:273\u001b[0m, in \u001b[0;36mPassManager._runPass.<locals>.check\u001b[1;34m(func, compiler_state)\u001b[0m\n\u001b[0;32m    272\u001b[0m \u001b[39mdef\u001b[39;00m \u001b[39mcheck\u001b[39m(func, compiler_state):\n\u001b[1;32m--> 273\u001b[0m     mangled \u001b[39m=\u001b[39m func(compiler_state)\n\u001b[0;32m    274\u001b[0m     \u001b[39mif\u001b[39;00m mangled \u001b[39mnot\u001b[39;00m \u001b[39min\u001b[39;00m (\u001b[39mTrue\u001b[39;00m, \u001b[39mFalse\u001b[39;00m):\n\u001b[0;32m    275\u001b[0m         msg \u001b[39m=\u001b[39m (\u001b[39m\"\u001b[39m\u001b[39mCompilerPass implementations should return True/False. \u001b[39m\u001b[39m\"\u001b[39m\n\u001b[0;32m    276\u001b[0m                \u001b[39m\"\u001b[39m\u001b[39mCompilerPass with name \u001b[39m\u001b[39m'\u001b[39m\u001b[39m%s\u001b[39;00m\u001b[39m'\u001b[39m\u001b[39m did not.\u001b[39m\u001b[39m\"\u001b[39m)\n",
      "File \u001b[1;32mc:\\Users\\bjste\\.conda\\envs\\tf-gpu\\lib\\site-packages\\numba\\core\\untyped_passes.py:105\u001b[0m, in \u001b[0;36mFixupArgs.run_pass\u001b[1;34m(self, state)\u001b[0m\n\u001b[0;32m    103\u001b[0m     state[\u001b[39m'\u001b[39m\u001b[39margs\u001b[39m\u001b[39m'\u001b[39m] \u001b[39m=\u001b[39m (types\u001b[39m.\u001b[39mpyobject,) \u001b[39m*\u001b[39m state[\u001b[39m'\u001b[39m\u001b[39mnargs\u001b[39m\u001b[39m'\u001b[39m]\n\u001b[0;32m    104\u001b[0m \u001b[39melif\u001b[39;00m \u001b[39mlen\u001b[39m(state[\u001b[39m'\u001b[39m\u001b[39margs\u001b[39m\u001b[39m'\u001b[39m]) \u001b[39m!=\u001b[39m state[\u001b[39m'\u001b[39m\u001b[39mnargs\u001b[39m\u001b[39m'\u001b[39m]:\n\u001b[1;32m--> 105\u001b[0m     \u001b[39mraise\u001b[39;00m \u001b[39mTypeError\u001b[39;00m(\u001b[39m\"\u001b[39m\u001b[39mSignature mismatch: \u001b[39m\u001b[39m%d\u001b[39;00m\u001b[39m argument types given, \u001b[39m\u001b[39m\"\u001b[39m\n\u001b[0;32m    106\u001b[0m                     \u001b[39m\"\u001b[39m\u001b[39mbut function takes \u001b[39m\u001b[39m%d\u001b[39;00m\u001b[39m arguments\u001b[39m\u001b[39m\"\u001b[39m\n\u001b[0;32m    107\u001b[0m                     \u001b[39m%\u001b[39m (\u001b[39mlen\u001b[39m(state[\u001b[39m'\u001b[39m\u001b[39margs\u001b[39m\u001b[39m'\u001b[39m]), state[\u001b[39m'\u001b[39m\u001b[39mnargs\u001b[39m\u001b[39m'\u001b[39m]))\n\u001b[0;32m    108\u001b[0m \u001b[39mreturn\u001b[39;00m \u001b[39mTrue\u001b[39;00m\n",
      "\u001b[1;31mTypeError\u001b[0m: Failed in cuda mode pipeline (step: fix up args)\nSignature mismatch: 3 argument types given, but function takes 2 arguments"
     ]
    }
   ],
   "source": [
    "def compute_force(c1,c2):\n",
    "    c_dir=c1[C]*c2[C]\n",
    "    dist=np.sqrt(np.square(c1[X]-c2[X])+np.square(c1[Y]-c2[Y]))\n",
    "    dir_vec=[c1[X]-c2[X],c1[Y]-c2[Y]]\n",
    "    dir_len=dist\n",
    "    norm_vec=[dir_vec[X]/dir_len,dir_vec[Y]/dir_len]\n",
    "    return_const=(1/(4*math.pi*np.square(dist)*E0))*TIMESCALE*c_dir\n",
    "    return_vec=[norm_vec[X]*return_const,norm_vec[Y]*return_const]\n",
    "    return return_vec\n"
   ]
  },
  {
   "cell_type": "code",
   "execution_count": 10,
   "metadata": {},
   "outputs": [
    {
     "name": "stderr",
     "output_type": "stream",
     "text": [
      "C:\\Users\\bjste\\AppData\\Local\\Temp\\ipykernel_2172\\1692416078.py:1: NumbaWarning: \u001b[1m\n",
      "Compilation is falling back to object mode WITHOUT looplifting enabled because Function \"compute_force\" failed type inference due to: \u001b[1m\u001b[1mnon-precise type pyobject\u001b[0m\n",
      "\u001b[0m\u001b[1mDuring: typing of argument at C:\\Users\\bjste\\AppData\\Local\\Temp\\ipykernel_2172\\1692416078.py (3)\u001b[0m\n",
      "\u001b[1m\n",
      "File \"C:\\Users\\bjste\\AppData\\Local\\Temp\\ipykernel_2172\\1692416078.py\", line 3:\u001b[0m\n",
      "\u001b[1mdef compute_force(c1,c2):\n",
      "\u001b[1m    c_dir=c1[C]*c2[C]\n",
      "\u001b[0m    \u001b[1m^\u001b[0m\u001b[0m\n",
      "\u001b[0m\n",
      "  @numba.vectorize\n",
      "c:\\Users\\bjste\\.conda\\envs\\tf-gpu\\lib\\site-packages\\numba\\core\\object_mode_passes.py:151: NumbaWarning: \u001b[1mFunction \"compute_force\" was compiled in object mode without forceobj=True.\n",
      "\u001b[1m\n",
      "File \"C:\\Users\\bjste\\AppData\\Local\\Temp\\ipykernel_2172\\1692416078.py\", line 2:\u001b[0m\n",
      "\u001b[1m@numba.vectorize\n",
      "\u001b[1mdef compute_force(c1,c2):\n",
      "\u001b[0m\u001b[1m^\u001b[0m\u001b[0m\n",
      "\u001b[0m\n",
      "  warnings.warn(errors.NumbaWarning(warn_msg,\n",
      "c:\\Users\\bjste\\.conda\\envs\\tf-gpu\\lib\\site-packages\\numba\\core\\object_mode_passes.py:161: NumbaDeprecationWarning: \u001b[1m\n",
      "Fall-back from the nopython compilation path to the object mode compilation path has been detected, this is deprecated behaviour.\n",
      "\n",
      "For more information visit https://numba.readthedocs.io/en/stable/reference/deprecation.html#deprecation-of-object-mode-fall-back-behaviour-when-using-jit\n",
      "\u001b[1m\n",
      "File \"C:\\Users\\bjste\\AppData\\Local\\Temp\\ipykernel_2172\\1692416078.py\", line 2:\u001b[0m\n",
      "\u001b[1m@numba.vectorize\n",
      "\u001b[1mdef compute_force(c1,c2):\n",
      "\u001b[0m\u001b[1m^\u001b[0m\u001b[0m\n",
      "\u001b[0m\n",
      "  warnings.warn(errors.NumbaDeprecationWarning(msg,\n"
     ]
    },
    {
     "ename": "TypeError",
     "evalue": "return type must be specified for object mode",
     "output_type": "error",
     "traceback": [
      "\u001b[1;31m---------------------------------------------------------------------------\u001b[0m",
      "\u001b[1;31mTypeError\u001b[0m                                 Traceback (most recent call last)",
      "Cell \u001b[1;32mIn [10], line 1\u001b[0m\n\u001b[1;32m----> 1\u001b[0m \u001b[43mcompute_force\u001b[49m\u001b[43m(\u001b[49m\u001b[43m[\u001b[49m\u001b[38;5;241;43m1\u001b[39;49m\u001b[43m,\u001b[49m\u001b[38;5;241;43m0\u001b[39;49m\u001b[43m,\u001b[49m\u001b[38;5;241;43m1\u001b[39;49m\u001b[43m]\u001b[49m\u001b[43m,\u001b[49m\u001b[43m[\u001b[49m\u001b[38;5;241;43m-\u001b[39;49m\u001b[38;5;241;43m1\u001b[39;49m\u001b[43m,\u001b[49m\u001b[38;5;241;43m0\u001b[39;49m\u001b[43m,\u001b[49m\u001b[38;5;241;43m1\u001b[39;49m\u001b[43m]\u001b[49m\u001b[43m)\u001b[49m\n",
      "File \u001b[1;32mc:\\Users\\bjste\\.conda\\envs\\tf-gpu\\lib\\site-packages\\numba\\np\\ufunc\\dufunc.py:202\u001b[0m, in \u001b[0;36mDUFunc._compile_for_args\u001b[1;34m(self, *args, **kws)\u001b[0m\n\u001b[0;32m    200\u001b[0m         argty \u001b[39m=\u001b[39m numpy_support\u001b[39m.\u001b[39mmap_arrayscalar_type(arg)\n\u001b[0;32m    201\u001b[0m     argtys\u001b[39m.\u001b[39mappend(argty)\n\u001b[1;32m--> 202\u001b[0m \u001b[39mreturn\u001b[39;00m \u001b[39mself\u001b[39;49m\u001b[39m.\u001b[39;49m_compile_for_argtys(\u001b[39mtuple\u001b[39;49m(argtys))\n",
      "File \u001b[1;32mc:\\Users\\bjste\\.conda\\envs\\tf-gpu\\lib\\site-packages\\numba\\np\\ufunc\\dufunc.py:221\u001b[0m, in \u001b[0;36mDUFunc._compile_for_argtys\u001b[1;34m(self, argtys, return_type)\u001b[0m\n\u001b[0;32m    218\u001b[0m     sig \u001b[39m=\u001b[39m return_type(\u001b[39m*\u001b[39margtys)\n\u001b[0;32m    219\u001b[0m cres, argtys, return_type \u001b[39m=\u001b[39m ufuncbuilder\u001b[39m.\u001b[39m_compile_element_wise_function(\n\u001b[0;32m    220\u001b[0m     \u001b[39mself\u001b[39m\u001b[39m.\u001b[39m_dispatcher, \u001b[39mself\u001b[39m\u001b[39m.\u001b[39mtargetoptions, sig)\n\u001b[1;32m--> 221\u001b[0m actual_sig \u001b[39m=\u001b[39m ufuncbuilder\u001b[39m.\u001b[39;49m_finalize_ufunc_signature(\n\u001b[0;32m    222\u001b[0m     cres, argtys, return_type)\n\u001b[0;32m    223\u001b[0m dtypenums, ptr, env \u001b[39m=\u001b[39m ufuncbuilder\u001b[39m.\u001b[39m_build_element_wise_ufunc_wrapper(\n\u001b[0;32m    224\u001b[0m     cres, actual_sig)\n\u001b[0;32m    225\u001b[0m \u001b[39mself\u001b[39m\u001b[39m.\u001b[39m_add_loop(\u001b[39mint\u001b[39m(ptr), dtypenums)\n",
      "File \u001b[1;32mc:\\Users\\bjste\\.conda\\envs\\tf-gpu\\lib\\site-packages\\numba\\np\\ufunc\\ufuncbuilder.py:186\u001b[0m, in \u001b[0;36m_finalize_ufunc_signature\u001b[1;34m(cres, args, return_type)\u001b[0m\n\u001b[0;32m    183\u001b[0m \u001b[39mif\u001b[39;00m return_type \u001b[39mis\u001b[39;00m \u001b[39mNone\u001b[39;00m:\n\u001b[0;32m    184\u001b[0m     \u001b[39mif\u001b[39;00m cres\u001b[39m.\u001b[39mobjectmode:\n\u001b[0;32m    185\u001b[0m         \u001b[39m# Object mode is used and return type is not specified\u001b[39;00m\n\u001b[1;32m--> 186\u001b[0m         \u001b[39mraise\u001b[39;00m \u001b[39mTypeError\u001b[39;00m(\u001b[39m\"\u001b[39m\u001b[39mreturn type must be specified for object mode\u001b[39m\u001b[39m\"\u001b[39m)\n\u001b[0;32m    187\u001b[0m     \u001b[39melse\u001b[39;00m:\n\u001b[0;32m    188\u001b[0m         return_type \u001b[39m=\u001b[39m cres\u001b[39m.\u001b[39msignature\u001b[39m.\u001b[39mreturn_type\n",
      "\u001b[1;31mTypeError\u001b[0m: return type must be specified for object mode"
     ]
    }
   ],
   "source": [
    "compute_force([1,0,1],[-1,0,1])"
   ]
  },
  {
   "cell_type": "code",
   "execution_count": 8,
   "metadata": {},
   "outputs": [
    {
     "data": {
      "image/png": "[encoded data removed]",
      "text/plain": [
       "<Figure size 640x480 with 1 Axes>"
      ]
     },
     "metadata": {},
     "output_type": "display_data"
    },
    {
     "data": {
      "text/plain": [
       "array([[-1.13882007e-03,  5.00000000e+00, -1.00000000e+00],\n",
       "       [-2.27764016e-03,  4.99999984e+00, -1.00000000e+00],\n",
       "       [-3.41646032e-03,  4.99999953e+00, -1.00000000e+00],\n",
       "       ...,\n",
       "       [ 9.79417026e+00, -7.46230567e-02,  1.00000000e+00],\n",
       "       [-1.00000000e+01,  0.00000000e+00, -1.00000000e+00],\n",
       "       [ 1.00000000e+01,  0.00000000e+00,  1.00000000e+00]])"
      ]
     },
     "execution_count": 8,
     "metadata": {},
     "output_type": "execute_result"
    }
   ],
   "source": [
    "lst=[]\n",
    "testcharge=[0,5,-1]\n",
    "for i in range(4630):\n",
    "    testcharge_dir=compute_force(testcharge,[-10,0,1])\n",
    "    testcharge_dir_2=compute_force(testcharge,[10,0,-1])\n",
    "    testcharge=[testcharge_dir[X]+testcharge[X]+testcharge_dir_2[X],testcharge_dir[Y]+testcharge[Y]+testcharge_dir_2[Y],testcharge[C]]\n",
    "    \n",
    "   \n",
    "    lst.append(testcharge)\n",
    "testcharge=[0,5,1]\n",
    "for i in range(4630):\n",
    "    testcharge_dir=compute_force(testcharge,[-10,0,1])\n",
    "    testcharge_dir_2=compute_force(testcharge,[10,0,-1])\n",
    "    testcharge=[testcharge_dir[X]+testcharge[X]+testcharge_dir_2[X],testcharge_dir[Y]+testcharge[Y]+testcharge_dir_2[Y],testcharge[C]]\n",
    "    \n",
    "   \n",
    "    lst.append(testcharge)\n",
    "testcharge=[0,2.5,-1]\n",
    "for i in range(3364):\n",
    "    testcharge_dir=compute_force(testcharge,[-10,0,1])\n",
    "    testcharge_dir_2=compute_force(testcharge,[10,0,-1])\n",
    "    testcharge=[testcharge_dir[X]+testcharge[X]+testcharge_dir_2[X],testcharge_dir[Y]+testcharge[Y]+testcharge_dir_2[Y],testcharge[C]]\n",
    "    \n",
    "   \n",
    "    lst.append(testcharge)\n",
    "testcharge=[0,2.5,1]\n",
    "for i in range(3364):\n",
    "    testcharge_dir=compute_force(testcharge,[-10,0,1])\n",
    "    testcharge_dir_2=compute_force(testcharge,[10,0,-1])\n",
    "    testcharge=[testcharge_dir[X]+testcharge[X]+testcharge_dir_2[X],testcharge_dir[Y]+testcharge[Y]+testcharge_dir_2[Y],testcharge[C]]\n",
    "    \n",
    "   \n",
    "    lst.append(testcharge)\n",
    "## underside\n",
    "testcharge=[0,-5,-1]\n",
    "for i in range(4630):\n",
    "    testcharge_dir=compute_force(testcharge,[-10,0,1])\n",
    "    testcharge_dir_2=compute_force(testcharge,[10,0,-1])\n",
    "    testcharge=[testcharge_dir[X]+testcharge[X]+testcharge_dir_2[X],testcharge_dir[Y]+testcharge[Y]+testcharge_dir_2[Y],testcharge[C]]\n",
    "    \n",
    "   \n",
    "    lst.append(testcharge)\n",
    "testcharge=[0,-5,1]\n",
    "for i in range(4630):\n",
    "    testcharge_dir=compute_force(testcharge,[-10,0,1])\n",
    "    testcharge_dir_2=compute_force(testcharge,[10,0,-1])\n",
    "    testcharge=[testcharge_dir[X]+testcharge[X]+testcharge_dir_2[X],testcharge_dir[Y]+testcharge[Y]+testcharge_dir_2[Y],testcharge[C]]\n",
    "    \n",
    "   \n",
    "    lst.append(testcharge)\n",
    "testcharge=[0,-2.5,-1]\n",
    "for i in range(3364):\n",
    "    testcharge_dir=compute_force(testcharge,[-10,0,1])\n",
    "    testcharge_dir_2=compute_force(testcharge,[10,0,-1])\n",
    "    testcharge=[testcharge_dir[X]+testcharge[X]+testcharge_dir_2[X],testcharge_dir[Y]+testcharge[Y]+testcharge_dir_2[Y],testcharge[C]]\n",
    "    \n",
    "   \n",
    "    lst.append(testcharge)\n",
    "testcharge=[0,-2.5,1]\n",
    "for i in range(3364):\n",
    "    testcharge_dir=compute_force(testcharge,[-10,0,1])\n",
    "    testcharge_dir_2=compute_force(testcharge,[10,0,-1])\n",
    "    testcharge=[testcharge_dir[X]+testcharge[X]+testcharge_dir_2[X],testcharge_dir[Y]+testcharge[Y]+testcharge_dir_2[Y],testcharge[C]]\n",
    "    \n",
    "   \n",
    "    lst.append(testcharge)\n",
    "## plot\n",
    "\n",
    "lst.append([-10,0,-1])\n",
    "lst.append([10,0,1])\n",
    "lst=np.array(lst)\n",
    "plt.plot(lst[:,0], lst[:,1],\",\")\n",
    "plt.show()\n",
    "lst"
   ]
  },
  {
   "cell_type": "markdown",
   "metadata": {},
   "source": [
    "Cuda Implementation"
   ]
  },
  {
   "cell_type": "code",
   "execution_count": null,
   "metadata": {},
   "outputs": [],
   "source": [
    "def cu_Draw(static_cs,free_cs):\n",
    "    "
   ]
  }
 ],
 "metadata": {
  "kernelspec": {
   "display_name": "Python 3.9.12 ('tf-gpu')",
   "language": "python",
   "name": "python3"
  },
  "language_info": {
   "codemirror_mode": {
    "name": "ipython",
    "version": 3
   },
   "file_extension": ".py",
   "mimetype": "text/x-python",
   "name": "python",
   "nbconvert_exporter": "python",
   "pygments_lexer": "ipython3",
   "version": "3.9.12"
  },
  "orig_nbformat": 4,
  "vscode": {
   "interpreter": {
    "hash": "a74df09d5392a08c1cf5631e3aa550c87d26ec001deefbe740278a16a2655f99"
   }
  }
 },
 "nbformat": 4,
 "nbformat_minor": 2
}
