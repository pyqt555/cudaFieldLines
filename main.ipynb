{
  "cells": [
    {
      "cell_type": "markdown",
      "metadata": {
        "colab_type": "text",
        "id": "view-in-github"
      },
      "source": [
        "<a href=\"https://colab.research.google.com/github/pyqt555/cudaFieldLines/blob/master/main.ipynb\" target=\"_parent\"><img src=\"https://colab.research.google.com/assets/colab-badge.svg\" alt=\"Open In Colab\"/></a>"
      ]
    },
    {
      "cell_type": "code",
      "execution_count": 3,
      "metadata": {
        "id": "GZTUpS45fsBO"
      },
      "outputs": [
        {
          "name": "stdout",
          "output_type": "stream",
          "text": [
            "Not running on Colab, replace cv2_imshow with cv2.imshow()\n"
          ]
        }
      ],
      "source": [
        "import numpy as np\n",
        "import numba \n",
        "import math\n",
        "import time\n",
        "import cv2 as cv2\n",
        "import matplotlib.pyplot as plt\n",
        "from matplotlib.colors import hsv_to_rgb as rgb\n",
        "import os\n",
        "try:\n",
        "    from google.colab.patches import cv2_imshow\n",
        "except:\n",
        "    print(\"Not running on Colab, replace cv2_imshow with cv2.imshow()\")\n",
        "from joblib import Parallel, delayed\n",
        "from multiprocessing.dummy import Pool as ThreadPool\n",
        "import itertools"
      ]
    },
    {
      "cell_type": "markdown",
      "metadata": {
        "id": "rhqBBdvufsBS"
      },
      "source": [
        "charge=[x,y,c]"
      ]
    },
    {
      "cell_type": "code",
      "execution_count": 4,
      "metadata": {
        "id": "vXKutJAEfsBX"
      },
      "outputs": [],
      "source": [
        "X=0\n",
        "Y=1\n",
        "C=2\n",
        "TIMESCALE=10\n",
        "E0=1"
      ]
    },
    {
      "cell_type": "code",
      "execution_count": 5,
      "metadata": {
        "id": "pjUuJLiyfsBY"
      },
      "outputs": [],
      "source": [
        "def compute_force(c1,c2):\n",
        "\n",
        "    c_dir=c1[C]*c2[C]\n",
        "    dist=np.sqrt(np.square(c1[X]-c2[X])+np.square(c1[Y]-c2[Y]))\n",
        "    dir_vec=[c1[X]-c2[X],c1[Y]-c2[Y]]\n",
        "    dir_len=dist\n",
        "    norm_vec=[dir_vec[X]/dir_len,dir_vec[Y]/dir_len]\n",
        "    return_const=(1/(4*math.pi*np.square(dist)*E0))*TIMESCALE*c_dir\n",
        "    return_vec=[norm_vec[X]*return_const,norm_vec[Y]*return_const]\n",
        "    return return_vec\n"
      ]
    },
    {
      "cell_type": "code",
      "execution_count": null,
      "metadata": {
        "colab": {
          "base_uri": "https://localhost:8080/"
        },
        "id": "7GpwVW9AfsBa",
        "outputId": "d3ea1696-e550-4118-e5d6-40b76618d1d4"
      },
      "outputs": [
        {
          "name": "stdout",
          "output_type": "stream",
          "text": [
            "9.02 µs ± 139 ns per loop (mean ± std. dev. of 7 runs, 100000 loops each)\n"
          ]
        }
      ],
      "source": [
        "%timeit compute_force([1,0,1],[-1,0,1])"
      ]
    },
    {
      "cell_type": "code",
      "execution_count": 6,
      "metadata": {
        "colab": {
          "base_uri": "https://localhost:8080/",
          "height": 387
        },
        "id": "BmDWqVXcfsBb",
        "outputId": "ec3aeb0e-08bf-40f3-bbd9-bd93bbb2c818"
      },
      "outputs": [
        {
          "data": {
            "image/png": "[encoded data removed]",
            "text/plain": [
              "<Figure size 640x480 with 1 Axes>"
            ]
          },
          "metadata": {},
          "output_type": "display_data"
        },
        {
          "data": {
            "text/plain": [
              "array([[-1.13882007e-02,  5.00000000e+00, -1.00000000e+00],\n",
              "       [-2.27764191e-02,  4.99998444e+00, -1.00000000e+00],\n",
              "       [-3.41647120e-02,  4.99995331e+00, -1.00000000e+00],\n",
              "       ...,\n",
              "       [ 1.36228890e+02,  1.57466476e+02, -1.00000000e+02],\n",
              "       [-1.00000000e+01,  0.00000000e+00, -1.00000000e+00],\n",
              "       [ 1.00000000e+01,  0.00000000e+00,  1.00000000e+00]])"
            ]
          },
          "execution_count": 6,
          "metadata": {},
          "output_type": "execute_result"
        }
      ],
      "source": [
        "lst=[]\n",
        "testcharge=[0,5,-1]\n",
        "for i in range(4630):\n",
        "    testcharge_dir=compute_force(testcharge,[-10,0,1])\n",
        "    testcharge_dir_2=compute_force(testcharge,[10,0,-1])\n",
        "    testcharge=[testcharge_dir[X]+testcharge[X]+testcharge_dir_2[X],testcharge_dir[Y]+testcharge[Y]+testcharge_dir_2[Y],testcharge[C]]\n",
        "    \n",
        "   \n",
        "    lst.append(testcharge)\n",
        "testcharge=[0,5,1]\n",
        "for i in range(4630):\n",
        "    testcharge_dir=compute_force(testcharge,[-10,0,1])\n",
        "    testcharge_dir_2=compute_force(testcharge,[10,0,-1])\n",
        "    testcharge=[testcharge_dir[X]+testcharge[X]+testcharge_dir_2[X],testcharge_dir[Y]+testcharge[Y]+testcharge_dir_2[Y],testcharge[C]]\n",
        "    \n",
        "   \n",
        "    lst.append(testcharge)\n",
        "testcharge=[0,2.5,-1]\n",
        "for i in range(3364):\n",
        "    testcharge_dir=compute_force(testcharge,[-10,0,1])\n",
        "    testcharge_dir_2=compute_force(testcharge,[10,0,-1])\n",
        "    testcharge=[testcharge_dir[X]+testcharge[X]+testcharge_dir_2[X],testcharge_dir[Y]+testcharge[Y]+testcharge_dir_2[Y],testcharge[C]]\n",
        "    \n",
        "   \n",
        "    lst.append(testcharge)\n",
        "testcharge=[0,2.5,1]\n",
        "for i in range(3364):\n",
        "    testcharge_dir=compute_force(testcharge,[-10,0,1])\n",
        "    testcharge_dir_2=compute_force(testcharge,[10,0,-1])\n",
        "    testcharge=[testcharge_dir[X]+testcharge[X]+testcharge_dir_2[X],testcharge_dir[Y]+testcharge[Y]+testcharge_dir_2[Y],testcharge[C]]\n",
        "    \n",
        "   \n",
        "    lst.append(testcharge)\n",
        "## underside\n",
        "testcharge=[0,-5,-1]\n",
        "for i in range(4630):\n",
        "    testcharge_dir=compute_force(testcharge,[-10,0,1])\n",
        "    testcharge_dir_2=compute_force(testcharge,[10,0,-1])\n",
        "    testcharge=[testcharge_dir[X]+testcharge[X]+testcharge_dir_2[X],testcharge_dir[Y]+testcharge[Y]+testcharge_dir_2[Y],testcharge[C]]\n",
        "    \n",
        "   \n",
        "    lst.append(testcharge)\n",
        "testcharge=[0,-5,1]\n",
        "for i in range(4630):\n",
        "    testcharge_dir=compute_force(testcharge,[-10,0,1])\n",
        "    testcharge_dir_2=compute_force(testcharge,[10,0,-1])\n",
        "    testcharge=[testcharge_dir[X]+testcharge[X]+testcharge_dir_2[X],testcharge_dir[Y]+testcharge[Y]+testcharge_dir_2[Y],testcharge[C]]\n",
        "    \n",
        "   \n",
        "    lst.append(testcharge)\n",
        "testcharge=[0,-80,100]\n",
        "for i in range(121400):\n",
        "    testcharge_dir=compute_force(testcharge,[-10,0,1])\n",
        "    testcharge_dir_2=compute_force(testcharge,[10,0,-1])\n",
        "    testcharge=[testcharge_dir[X]+testcharge[X]+testcharge_dir_2[X],testcharge_dir[Y]+testcharge[Y]+testcharge_dir_2[Y],testcharge[C]]\n",
        "    \n",
        "   \n",
        "    lst.append(testcharge)\n",
        "testcharge=[0,-80,-100]\n",
        "for i in range(121400):\n",
        "    testcharge_dir=compute_force(testcharge,[-10,0,1])\n",
        "    testcharge_dir_2=compute_force(testcharge,[10,0,-1])\n",
        "    testcharge=[testcharge_dir[X]+testcharge[X]+testcharge_dir_2[X],testcharge_dir[Y]+testcharge[Y]+testcharge_dir_2[Y],testcharge[C]]\n",
        "    \n",
        "   \n",
        "    lst.append(testcharge)\n",
        "## plot\n",
        "\n",
        "lst.append([-10,0,-1])\n",
        "lst.append([10,0,1])\n",
        "lst=np.array(lst)\n",
        "plt.plot(lst[:,0], lst[:,1],\",\")\n",
        "plt.show()\n",
        "lst"
      ]
    },
    {
      "cell_type": "markdown",
      "metadata": {
        "id": "HsnCIWSxfsBg"
      },
      "source": [
        "Numba Implementation(slow and wrong)"
      ]
    },
    {
      "cell_type": "code",
      "execution_count": 7,
      "metadata": {
        "id": "AcJ9PjjefsBh"
      },
      "outputs": [],
      "source": [
        "\n",
        "@numba.vectorize([\"float64(float64,float64,float64,float64,float64,float64)\"])\n",
        "def compute_forces(c1,c2,x1,x2,y1,y2):\n",
        "    c_dir=c1*c2\n",
        "    dist=(((x1-x2)**2)+((y1-y2)**2))**.5\n",
        "    dir_vec=[x1-x2,y1-y2]\n",
        "    dir_len=dist\n",
        "    norm_vec=[dir_vec[X]/dir_len,dir_vec[Y]/dir_len]\n",
        "    return_const=(1/(4*math.pi*(dist**2)*E0))*TIMESCALE*c_dir\n",
        "    return_vec=[norm_vec[X]*return_const,norm_vec[Y]*return_const]\n",
        "    return return_vec[0]"
      ]
    },
    {
      "cell_type": "code",
      "execution_count": null,
      "metadata": {
        "colab": {
          "base_uri": "https://localhost:8080/"
        },
        "id": "rbeOgx2afsBi",
        "outputId": "796454e7-3f68-42b4-f049-b938fa1b2382"
      },
      "outputs": [
        {
          "data": {
            "text/plain": [
              "['dddddd->d']"
            ]
          },
          "execution_count": 8,
          "metadata": {},
          "output_type": "execute_result"
        }
      ],
      "source": [
        "compute_forces.ufunc.types"
      ]
    },
    {
      "cell_type": "code",
      "execution_count": 8,
      "metadata": {
        "colab": {
          "base_uri": "https://localhost:8080/"
        },
        "id": "DMn1HuYwfsBk",
        "outputId": "8efd809b-05b1-4a94-fa27-5462e844506f"
      },
      "outputs": [
        {
          "name": "stdout",
          "output_type": "stream",
          "text": [
            "23.8 ms ± 298 µs per loop (mean ± std. dev. of 7 runs, 10 loops each)\n"
          ]
        }
      ],
      "source": [
        "test=np.random.random((6,100000))\n",
        "\n",
        "\n",
        "%timeit compute_forces(*test)"
      ]
    },
    {
      "cell_type": "markdown",
      "metadata": {
        "id": "qf8Pn2A5fsBl"
      },
      "source": [
        "Numba (fast)"
      ]
    },
    {
      "cell_type": "code",
      "execution_count": 10,
      "metadata": {
        "id": "5jvrG0j7fsBm"
      },
      "outputs": [],
      "source": [
        "from numba import float64\n",
        "@numba.guvectorize([(float64[:],float64[:],float64[:])], '(n),(n)->(n)',target=\"parallel\")\n",
        "def compute_force_guv(c1,c2,res):\n",
        "    c_dir=c1[C]*c2[C]\n",
        "    dist=((c1[X]-c2[X])**2+(c1[Y]-c2[Y])**2)**.5\n",
        "    dir_vec=[c1[X]-c2[X],c1[Y]-c2[Y]]\n",
        "    dir_len=dist\n",
        "    norm_vec=[dir_vec[X]/dir_len,dir_vec[Y]/dir_len]\n",
        "    return_const=(1/(4*math.pi*(dist**2)*E0))*TIMESCALE*c_dir*(-1)#-1 for correct direction\n",
        "    res[:]=[norm_vec[X]*return_const,norm_vec[Y]*return_const,0]\n",
        "    \n",
        "    #print(res)"
      ]
    },
    {
      "cell_type": "code",
      "execution_count": null,
      "metadata": {
        "colab": {
          "base_uri": "https://localhost:8080/",
          "height": 416
        },
        "id": "O0JylFcLfsBm",
        "outputId": "6af13f6c-4613-4735-d77b-bdfd1da6329e"
      },
      "outputs": [
        {
          "ename": "ValueError",
          "evalue": "ignored",
          "output_type": "error",
          "traceback": [
            "\u001b[0;31m---------------------------------------------------------------------------\u001b[0m",
            "\u001b[0;31mValueError\u001b[0m                                Traceback (most recent call last)",
            "\u001b[0;32m<ipython-input-11-e5f4919d89d7>\u001b[0m in \u001b[0;36m<module>\u001b[0;34m\u001b[0m\n\u001b[1;32m      3\u001b[0m \u001b[0;34m\u001b[0m\u001b[0m\n\u001b[1;32m      4\u001b[0m \u001b[0;34m\u001b[0m\u001b[0m\n\u001b[0;32m----> 5\u001b[0;31m \u001b[0mget_ipython\u001b[0m\u001b[0;34m(\u001b[0m\u001b[0;34m)\u001b[0m\u001b[0;34m.\u001b[0m\u001b[0mrun_line_magic\u001b[0m\u001b[0;34m(\u001b[0m\u001b[0;34m'timeit'\u001b[0m\u001b[0;34m,\u001b[0m \u001b[0;34m'compute_force_guv(*test)'\u001b[0m\u001b[0;34m)\u001b[0m\u001b[0;34m\u001b[0m\u001b[0;34m\u001b[0m\u001b[0m\n\u001b[0m",
            "\u001b[0;32m/usr/local/lib/python3.7/dist-packages/IPython/core/interactiveshell.py\u001b[0m in \u001b[0;36mrun_line_magic\u001b[0;34m(self, magic_name, line, _stack_depth)\u001b[0m\n\u001b[1;32m   2312\u001b[0m                 \u001b[0mkwargs\u001b[0m\u001b[0;34m[\u001b[0m\u001b[0;34m'local_ns'\u001b[0m\u001b[0;34m]\u001b[0m \u001b[0;34m=\u001b[0m \u001b[0msys\u001b[0m\u001b[0;34m.\u001b[0m\u001b[0m_getframe\u001b[0m\u001b[0;34m(\u001b[0m\u001b[0mstack_depth\u001b[0m\u001b[0;34m)\u001b[0m\u001b[0;34m.\u001b[0m\u001b[0mf_locals\u001b[0m\u001b[0;34m\u001b[0m\u001b[0;34m\u001b[0m\u001b[0m\n\u001b[1;32m   2313\u001b[0m             \u001b[0;32mwith\u001b[0m \u001b[0mself\u001b[0m\u001b[0;34m.\u001b[0m\u001b[0mbuiltin_trap\u001b[0m\u001b[0;34m:\u001b[0m\u001b[0;34m\u001b[0m\u001b[0;34m\u001b[0m\u001b[0m\n\u001b[0;32m-> 2314\u001b[0;31m                 \u001b[0mresult\u001b[0m \u001b[0;34m=\u001b[0m \u001b[0mfn\u001b[0m\u001b[0;34m(\u001b[0m\u001b[0;34m*\u001b[0m\u001b[0margs\u001b[0m\u001b[0;34m,\u001b[0m \u001b[0;34m**\u001b[0m\u001b[0mkwargs\u001b[0m\u001b[0;34m)\u001b[0m\u001b[0;34m\u001b[0m\u001b[0;34m\u001b[0m\u001b[0m\n\u001b[0m\u001b[1;32m   2315\u001b[0m             \u001b[0;32mreturn\u001b[0m \u001b[0mresult\u001b[0m\u001b[0;34m\u001b[0m\u001b[0;34m\u001b[0m\u001b[0m\n\u001b[1;32m   2316\u001b[0m \u001b[0;34m\u001b[0m\u001b[0m\n",
            "\u001b[0;32m<decorator-gen-53>\u001b[0m in \u001b[0;36mtimeit\u001b[0;34m(self, line, cell, local_ns)\u001b[0m\n",
            "\u001b[0;32m/usr/local/lib/python3.7/dist-packages/IPython/core/magic.py\u001b[0m in \u001b[0;36m<lambda>\u001b[0;34m(f, *a, **k)\u001b[0m\n\u001b[1;32m    185\u001b[0m     \u001b[0;31m# but it's overkill for just that one bit of state.\u001b[0m\u001b[0;34m\u001b[0m\u001b[0;34m\u001b[0m\u001b[0;34m\u001b[0m\u001b[0m\n\u001b[1;32m    186\u001b[0m     \u001b[0;32mdef\u001b[0m \u001b[0mmagic_deco\u001b[0m\u001b[0;34m(\u001b[0m\u001b[0marg\u001b[0m\u001b[0;34m)\u001b[0m\u001b[0;34m:\u001b[0m\u001b[0;34m\u001b[0m\u001b[0;34m\u001b[0m\u001b[0m\n\u001b[0;32m--> 187\u001b[0;31m         \u001b[0mcall\u001b[0m \u001b[0;34m=\u001b[0m \u001b[0;32mlambda\u001b[0m \u001b[0mf\u001b[0m\u001b[0;34m,\u001b[0m \u001b[0;34m*\u001b[0m\u001b[0ma\u001b[0m\u001b[0;34m,\u001b[0m \u001b[0;34m**\u001b[0m\u001b[0mk\u001b[0m\u001b[0;34m:\u001b[0m \u001b[0mf\u001b[0m\u001b[0;34m(\u001b[0m\u001b[0;34m*\u001b[0m\u001b[0ma\u001b[0m\u001b[0;34m,\u001b[0m \u001b[0;34m**\u001b[0m\u001b[0mk\u001b[0m\u001b[0;34m)\u001b[0m\u001b[0;34m\u001b[0m\u001b[0;34m\u001b[0m\u001b[0m\n\u001b[0m\u001b[1;32m    188\u001b[0m \u001b[0;34m\u001b[0m\u001b[0m\n\u001b[1;32m    189\u001b[0m         \u001b[0;32mif\u001b[0m \u001b[0mcallable\u001b[0m\u001b[0;34m(\u001b[0m\u001b[0marg\u001b[0m\u001b[0;34m)\u001b[0m\u001b[0;34m:\u001b[0m\u001b[0;34m\u001b[0m\u001b[0;34m\u001b[0m\u001b[0m\n",
            "\u001b[0;32m/usr/local/lib/python3.7/dist-packages/IPython/core/magics/execution.py\u001b[0m in \u001b[0;36mtimeit\u001b[0;34m(self, line, cell, local_ns)\u001b[0m\n\u001b[1;32m   1156\u001b[0m             \u001b[0;32mfor\u001b[0m \u001b[0mindex\u001b[0m \u001b[0;32min\u001b[0m \u001b[0mrange\u001b[0m\u001b[0;34m(\u001b[0m\u001b[0;36m0\u001b[0m\u001b[0;34m,\u001b[0m \u001b[0;36m10\u001b[0m\u001b[0;34m)\u001b[0m\u001b[0;34m:\u001b[0m\u001b[0;34m\u001b[0m\u001b[0;34m\u001b[0m\u001b[0m\n\u001b[1;32m   1157\u001b[0m                 \u001b[0mnumber\u001b[0m \u001b[0;34m=\u001b[0m \u001b[0;36m10\u001b[0m \u001b[0;34m**\u001b[0m \u001b[0mindex\u001b[0m\u001b[0;34m\u001b[0m\u001b[0;34m\u001b[0m\u001b[0m\n\u001b[0;32m-> 1158\u001b[0;31m                 \u001b[0mtime_number\u001b[0m \u001b[0;34m=\u001b[0m \u001b[0mtimer\u001b[0m\u001b[0;34m.\u001b[0m\u001b[0mtimeit\u001b[0m\u001b[0;34m(\u001b[0m\u001b[0mnumber\u001b[0m\u001b[0;34m)\u001b[0m\u001b[0;34m\u001b[0m\u001b[0;34m\u001b[0m\u001b[0m\n\u001b[0m\u001b[1;32m   1159\u001b[0m                 \u001b[0;32mif\u001b[0m \u001b[0mtime_number\u001b[0m \u001b[0;34m>=\u001b[0m \u001b[0;36m0.2\u001b[0m\u001b[0;34m:\u001b[0m\u001b[0;34m\u001b[0m\u001b[0;34m\u001b[0m\u001b[0m\n\u001b[1;32m   1160\u001b[0m                     \u001b[0;32mbreak\u001b[0m\u001b[0;34m\u001b[0m\u001b[0;34m\u001b[0m\u001b[0m\n",
            "\u001b[0;32m/usr/local/lib/python3.7/dist-packages/IPython/core/magics/execution.py\u001b[0m in \u001b[0;36mtimeit\u001b[0;34m(self, number)\u001b[0m\n\u001b[1;32m    167\u001b[0m         \u001b[0mgc\u001b[0m\u001b[0;34m.\u001b[0m\u001b[0mdisable\u001b[0m\u001b[0;34m(\u001b[0m\u001b[0;34m)\u001b[0m\u001b[0;34m\u001b[0m\u001b[0;34m\u001b[0m\u001b[0m\n\u001b[1;32m    168\u001b[0m         \u001b[0;32mtry\u001b[0m\u001b[0;34m:\u001b[0m\u001b[0;34m\u001b[0m\u001b[0;34m\u001b[0m\u001b[0m\n\u001b[0;32m--> 169\u001b[0;31m             \u001b[0mtiming\u001b[0m \u001b[0;34m=\u001b[0m \u001b[0mself\u001b[0m\u001b[0;34m.\u001b[0m\u001b[0minner\u001b[0m\u001b[0;34m(\u001b[0m\u001b[0mit\u001b[0m\u001b[0;34m,\u001b[0m \u001b[0mself\u001b[0m\u001b[0;34m.\u001b[0m\u001b[0mtimer\u001b[0m\u001b[0;34m)\u001b[0m\u001b[0;34m\u001b[0m\u001b[0;34m\u001b[0m\u001b[0m\n\u001b[0m\u001b[1;32m    170\u001b[0m         \u001b[0;32mfinally\u001b[0m\u001b[0;34m:\u001b[0m\u001b[0;34m\u001b[0m\u001b[0;34m\u001b[0m\u001b[0m\n\u001b[1;32m    171\u001b[0m             \u001b[0;32mif\u001b[0m \u001b[0mgcold\u001b[0m\u001b[0;34m:\u001b[0m\u001b[0;34m\u001b[0m\u001b[0;34m\u001b[0m\u001b[0m\n",
            "\u001b[0;32m<magic-timeit>\u001b[0m in \u001b[0;36minner\u001b[0;34m(_it, _timer)\u001b[0m\n",
            "\u001b[0;31mValueError\u001b[0m: cannot assign slice from input of different size"
          ]
        }
      ],
      "source": [
        "test=np.random.random((3,2,100))\n",
        "\n",
        "\n",
        "\n",
        "%timeit compute_force_guv(*test)"
      ]
    },
    {
      "cell_type": "code",
      "execution_count": 4,
      "metadata": {
        "colab": {
          "base_uri": "https://localhost:8080/",
          "height": 166
        },
        "id": "yvPVOLcHfsBo",
        "outputId": "988dce65-6983-4077-9213-442d96293636"
      },
      "outputs": [
        {
          "ename": "AttributeError",
          "evalue": "ignored",
          "output_type": "error",
          "traceback": [
            "\u001b[0;31m---------------------------------------------------------------------------\u001b[0m",
            "\u001b[0;31mAttributeError\u001b[0m                            Traceback (most recent call last)",
            "\u001b[0;32m<ipython-input-4-d2ba9240cabc>\u001b[0m in \u001b[0;36m<module>\u001b[0;34m\u001b[0m\n\u001b[0;32m----> 1\u001b[0;31m \u001b[0mcompute_force_guv\u001b[0m\u001b[0;34m.\u001b[0m\u001b[0mufunc\u001b[0m\u001b[0;34m.\u001b[0m\u001b[0msignature\u001b[0m\u001b[0;34m\u001b[0m\u001b[0;34m\u001b[0m\u001b[0m\n\u001b[0m",
            "\u001b[0;31mAttributeError\u001b[0m: 'numpy.ufunc' object has no attribute 'ufunc'"
          ]
        }
      ],
      "source": [
        "compute_force_guv.ufunc.signature"
      ]
    },
    {
      "cell_type": "code",
      "execution_count": 11,
      "metadata": {
        "id": "WktYHeNYfsBp"
      },
      "outputs": [],
      "source": [
        "test2=np.array([[[1,1,1],[2,2,2]]],dtype=\"float64\")\n",
        "res=np.zeros((2,3))\n",
        "@numba.jit\n",
        "def compute_vectors_guv_fixed_output(non_statics,statics):\n",
        "    f=compute_force_guv(non_statics,statics,np.zeros((statics.shape[0],3)))[:,:2]\n",
        "    return np.array([np.sum(f[:,0]),np.sum(f[:,1])])\n",
        "\n"
      ]
    },
    {
      "cell_type": "code",
      "execution_count": null,
      "metadata": {
        "id": "EzNN4oc7ADku"
      },
      "outputs": [],
      "source": [
        "%prun compute_vectors_guv_fixed_output(np.array([[0,0,1]]),np.random.random((200000,3)))"
      ]
    },
    {
      "cell_type": "code",
      "execution_count": null,
      "metadata": {
        "id": "0a4eCvpXfsBp"
      },
      "outputs": [],
      "source": [
        "\n",
        "%timeit compute_vectors_guv_fixed_output(np.random.random((10000,3)),np.random.random((10000,3)))"
      ]
    },
    {
      "cell_type": "code",
      "execution_count": 13,
      "metadata": {
        "id": "6vigKzoyfsBp"
      },
      "outputs": [],
      "source": [
        "#@numba.jit\n",
        "def compute_line(testcharge,line_length,statics):\n",
        "  #print(\"new Charge\")\n",
        "  positions=[]\n",
        "  for i in range(int(line_length)):\n",
        "        #if i%100==0:\n",
        "        #  print(i)\n",
        "        testcharge_dir=compute_vectors_guv_fixed_output([testcharge],statics)\n",
        "        \n",
        "        testcharge=[testcharge[X]+testcharge_dir[X],testcharge[Y]+testcharge_dir[Y],testcharge[C]]\n",
        "        \n",
        "        if (testcharge_dir[X]**2+testcharge_dir[Y]**2) >(1*TIMESCALE)**2:\n",
        "          #print(i)\n",
        "          #print(np.sum(testcharge_dir**2))\n",
        "          break\n",
        "   \n",
        "        positions.append(testcharge)\n",
        "  #print(\"computed\")\n",
        "  return positions\n",
        "\n",
        "def compute_lines(statics,nonstatics,line_length=1000):\n",
        "    nonstatics=nonstatics.copy()\n",
        "    positions=[]\n",
        "    pool = ThreadPool(int((nonstatics.shape[0]/2)+0.999))\n",
        "    print(nonstatics.shape[0])\n",
        "    results = pool.starmap(compute_line, zip(nonstatics,itertools.repeat(line_length),itertools.repeat(statics)))\n",
        "    pool.close()\n",
        "    pool.join()\n",
        "    #results=compute_line(nonstatics[0],line_length,statics)\n",
        "    return np.array(results)\n",
        "        \n",
        "\n"
      ]
    },
    {
      "cell_type": "code",
      "execution_count": null,
      "metadata": {
        "colab": {
          "base_uri": "https://localhost:8080/"
        },
        "id": "MZJodNRMIXnV",
        "outputId": "fe850ed8-c369-4b5b-bb6c-6687abc5bc5c"
      },
      "outputs": [
        {
          "name": "stdout",
          "output_type": "stream",
          "text": [
            "Looking in indexes: https://pypi.org/simple, https://us-python.pkg.dev/colab-wheels/public/simple/\n",
            "Requirement already satisfied: line_profiler in /usr/local/lib/python3.7/dist-packages (3.5.1)\n"
          ]
        }
      ],
      "source": [
        "pip install line_profiler"
      ]
    },
    {
      "cell_type": "code",
      "execution_count": null,
      "metadata": {
        "id": "6JajjWRUIf6w"
      },
      "outputs": [],
      "source": [
        "%load_ext line_profiler"
      ]
    },
    {
      "cell_type": "markdown",
      "metadata": {
        "id": "qoXtIV0ZNXnz"
      },
      "source": [
        "Random tests"
      ]
    },
    {
      "cell_type": "code",
      "execution_count": 14,
      "metadata": {
        "colab": {
          "base_uri": "https://localhost:8080/"
        },
        "id": "yvlP-i61nxwH",
        "outputId": "49f15c98-7523-46ab-cc83-b60d17e9e608"
      },
      "outputs": [
        {
          "name": "stdout",
          "output_type": "stream",
          "text": [
            "20\n"
          ]
        },
        {
          "name": "stderr",
          "output_type": "stream",
          "text": [
            "C:\\Users\\bjste\\AppData\\Local\\Temp\\ipykernel_25148\\4226741434.py:3: NumbaWarning: \u001b[1m\n",
            "Compilation is falling back to object mode WITH looplifting enabled because Function \"compute_vectors_guv_fixed_output\" failed type inference due to: \u001b[1mUntyped global name 'compute_force_guv':\u001b[0m \u001b[1m\u001b[1mCannot determine Numba type of <class 'numpy.ufunc'>\u001b[0m\n",
            "\u001b[1m\n",
            "File \"C:\\Users\\bjste\\AppData\\Local\\Temp\\ipykernel_25148\\4226741434.py\", line 5:\u001b[0m\n",
            "\u001b[1mdef compute_vectors_guv_fixed_output(non_statics,statics):\n",
            "\u001b[1m    f=compute_force_guv(non_statics,statics,np.zeros((statics.shape[0],3)))[:,:2]\n",
            "\u001b[0m    \u001b[1m^\u001b[0m\u001b[0m\n",
            "\u001b[0m\u001b[0m\n",
            "  @numba.jit\n",
            "c:\\Users\\bjste\\.conda\\envs\\tf-gpu\\lib\\site-packages\\numba\\core\\object_mode_passes.py:151: NumbaWarning: \u001b[1mFunction \"compute_vectors_guv_fixed_output\" was compiled in object mode without forceobj=True.\n",
            "\u001b[1m\n",
            "File \"C:\\Users\\bjste\\AppData\\Local\\Temp\\ipykernel_25148\\4226741434.py\", line 4:\u001b[0m\n",
            "\u001b[1m@numba.jit\n",
            "\u001b[1mdef compute_vectors_guv_fixed_output(non_statics,statics):\n",
            "\u001b[0m\u001b[1m^\u001b[0m\u001b[0m\n",
            "\u001b[0m\n",
            "  warnings.warn(errors.NumbaWarning(warn_msg,\n",
            "c:\\Users\\bjste\\.conda\\envs\\tf-gpu\\lib\\site-packages\\numba\\core\\object_mode_passes.py:161: NumbaDeprecationWarning: \u001b[1m\n",
            "Fall-back from the nopython compilation path to the object mode compilation path has been detected, this is deprecated behaviour.\n",
            "\n",
            "For more information visit https://numba.readthedocs.io/en/stable/reference/deprecation.html#deprecation-of-object-mode-fall-back-behaviour-when-using-jit\n",
            "\u001b[1m\n",
            "File \"C:\\Users\\bjste\\AppData\\Local\\Temp\\ipykernel_25148\\4226741434.py\", line 4:\u001b[0m\n",
            "\u001b[1m@numba.jit\n",
            "\u001b[1mdef compute_vectors_guv_fixed_output(non_statics,statics):\n",
            "\u001b[0m\u001b[1m^\u001b[0m\u001b[0m\n",
            "\u001b[0m\n",
            "  warnings.warn(errors.NumbaDeprecationWarning(msg,\n",
            "C:\\Users\\bjste\\AppData\\Local\\Temp\\ipykernel_25148\\4226741434.py:3: NumbaWarning: \u001b[1m\n",
            "Compilation is falling back to object mode WITH looplifting enabled because Function \"compute_vectors_guv_fixed_output\" failed type inference due to: \u001b[1mUntyped global name 'compute_force_guv':\u001b[0m \u001b[1m\u001b[1mCannot determine Numba type of <class 'numpy.ufunc'>\u001b[0m\n",
            "\u001b[1m\n",
            "File \"C:\\Users\\bjste\\AppData\\Local\\Temp\\ipykernel_25148\\4226741434.py\", line 5:\u001b[0m\n",
            "\u001b[1mdef compute_vectors_guv_fixed_output(non_statics,statics):\n",
            "\u001b[1m    f=compute_force_guv(non_statics,statics,np.zeros((statics.shape[0],3)))[:,:2]\n",
            "\u001b[0m    \u001b[1m^\u001b[0m\u001b[0m\n",
            "\u001b[0m\u001b[0m\n",
            "  @numba.jit\n",
            "C:\\Users\\bjste\\AppData\\Local\\Temp\\ipykernel_25148\\905022642.py:30: VisibleDeprecationWarning: Creating an ndarray from ragged nested sequences (which is a list-or-tuple of lists-or-tuples-or ndarrays with different lengths or shapes) is deprecated. If you meant to do this, you must specify 'dtype=object' when creating the ndarray.\n",
            "  return np.array(results)\n"
          ]
        }
      ],
      "source": [
        "#statics=np.random.random((2000,3))*3.145926\n",
        "statics=np.array([[-10,0,-1],[10,0,1]])#*4\n",
        "Nonstatics=np.ones((20,3))\n",
        "Nonstatics[0:10,1]=range(10)\n",
        "Nonstatics[10:20,1]=range(10)\n",
        "Nonstatics[:,1]+=.5\n",
        "Nonstatics[:,0]=-11\n",
        "Nonstatics[10:20,2]=-5\n",
        "Nonstatics[0:10,2]=5\n",
        "Nonstatics[:,1]-=5\n",
        "#statics=np.sin(statics)\n",
        "TIMESCALE=100\n",
        "lst= compute_lines(statics,Nonstatics,line_length=10000)\n",
        "\n"
      ]
    },
    {
      "cell_type": "code",
      "execution_count": 15,
      "metadata": {
        "colab": {
          "base_uri": "https://localhost:8080/",
          "height": 265
        },
        "id": "BpvocNUx3C0e",
        "outputId": "91ec9ab4-58be-492a-983e-25adfc402c39"
      },
      "outputs": [
        {
          "data": {
            "image/png": "[encoded data removed]",
            "text/plain": [
              "<Figure size 640x480 with 1 Axes>"
            ]
          },
          "metadata": {},
          "output_type": "display_data"
        }
      ],
      "source": [
        "for line in lst:\n",
        "  if len(line)>0: \n",
        "    nl=[]\n",
        "    for p in line:\n",
        "      nl.append((p[0],p[1]))\n",
        "    nl=np.array(nl)\n",
        "    plt.plot(nl[:,0], nl[:,1],\",\",color=\"black\")  \n",
        "plt.plot(statics[:,0], statics[:,1],\"o\")\n",
        "\n",
        "\n",
        "\n",
        "plt.show()\n",
        "#lst"
      ]
    },
    {
      "cell_type": "markdown",
      "metadata": {
        "id": "tBi-HTdlNfsf"
      },
      "source": [
        "Homogen Test"
      ]
    },
    {
      "cell_type": "code",
      "execution_count": null,
      "metadata": {
        "colab": {
          "base_uri": "https://localhost:8080/",
          "height": 387
        },
        "id": "OfKakj7MNkGt",
        "outputId": "b6b8cb37-b130-48ab-c4f9-d846dd172004"
      },
      "outputs": [
        {
          "data": {
            "image/png": "[encoded data removed]",
            "text/plain": [
              "<Figure size 432x288 with 1 Axes>"
            ]
          },
          "metadata": {
            "needs_background": "light"
          },
          "output_type": "display_data"
        },
        {
          "data": {
            "text/plain": [
              "array([[ 3.15269826e-02,  5.00000000e+01,  1.00000000e+00],\n",
              "       [ 6.30542819e-02,  5.00000004e+01,  1.00000000e+00],\n",
              "       [ 9.45825311e-02,  5.00000011e+01,  1.00000000e+00],\n",
              "       ...,\n",
              "       [-9.19449748e+00,  9.49990812e+02, -1.00000000e+00],\n",
              "       [-9.40769039e+00,  9.49991110e+02, -1.00000000e+00],\n",
              "       [-9.71978724e+00,  9.49992826e+02, -1.00000000e+00]])"
            ]
          },
          "execution_count": 62,
          "metadata": {},
          "output_type": "execute_result"
        }
      ],
      "source": [
        "Statics=np.ones((2000,3))\n",
        "Statics[0:1000,0]=-10\n",
        "Statics[1000:2000,0]=10\n",
        "Statics[0:1000,2]=-1\n",
        "Statics[0:1000,1]=range(1000)\n",
        "Statics[1000:2000,1]=range(1000)\n",
        "Nonstatics=np.ones((20,3))\n",
        "Nonstatics[0:10,1]=range(10)\n",
        "Nonstatics[10:20,1]=range(10)\n",
        "Nonstatics[:,1]+=.5\n",
        "Nonstatics[:,0]=0\n",
        "Nonstatics[10:20,2]=-1\n",
        "Nonstatics[:,1]*=100\n",
        "Hfl=compute_lines(Statics,Nonstatics)\n",
        "lst=np.array(Hfl)\n",
        "\n",
        "plt.plot(Statics[0:1000,0], Statics[0:1000,1],\"o\" ,color=rgb((1.,1.,1.)))\n",
        "plt.plot(Statics[1000:2000,0], Statics[1000:2000,1],\"o\" ,color=rgb((2/3,1.,1.)))\n",
        "plt.plot(lst[:,0], lst[:,1],\",\",color=\"black\")  \n",
        "\n",
        "\n",
        "plt.show()\n",
        "lst"
      ]
    },
    {
      "cell_type": "markdown",
      "metadata": {
        "id": "ejcxThhOct9h"
      },
      "source": [
        "Test imload"
      ]
    },
    {
      "cell_type": "code",
      "execution_count": null,
      "metadata": {
        "colab": {
          "base_uri": "https://localhost:8080/"
        },
        "id": "klNaF8bMcyLQ",
        "outputId": "e68538e0-8cdb-48cb-c1a5-82c41ab67776"
      },
      "outputs": [
        {
          "data": {
            "text/plain": [
              "['anscombe.json',\n",
              " 'README.md',\n",
              " 'test.bmp',\n",
              " 'mnist_train_small.csv',\n",
              " 'mnist_test.csv',\n",
              " 'california_housing_test.csv',\n",
              " 'california_housing_train.csv']"
            ]
          },
          "execution_count": 68,
          "metadata": {},
          "output_type": "execute_result"
        }
      ],
      "source": [
        "os.listdir()\n"
      ]
    },
    {
      "cell_type": "code",
      "execution_count": 8,
      "metadata": {
        "colab": {
          "base_uri": "https://localhost:8080/"
        },
        "id": "q0tm1Q_odjqK",
        "outputId": "5d22b31b-31cf-4323-bbdb-434c30c6f072"
      },
      "outputs": [
        {
          "data": {
            "text/plain": [
              "(3, 230523)"
            ]
          },
          "execution_count": 8,
          "metadata": {},
          "output_type": "execute_result"
        }
      ],
      "source": [
        "testimg=cv2.imread(\"test.bmp\")\n",
        "\n",
        "#cv2_imshow(testimg)\n",
        "#testimg=cv2.cvtColor(testimg,cv2.COLOR_BGR2GRAY)\n",
        "\n",
        "#cv2_imshow()\n",
        "np.array(np.where(testimg!=255)).shape"
      ]
    },
    {
      "cell_type": "code",
      "execution_count": null,
      "metadata": {
        "colab": {
          "base_uri": "https://localhost:8080/"
        },
        "id": "mi5VWlSMkMDN",
        "outputId": "b061d248-0908-4edb-92e0-91c3215c5f9e"
      },
      "outputs": [
        {
          "data": {
            "text/plain": [
              "array([ 75,  76,  77,  78,  79,  80,  81,  82,  83,  84,  85,  86,  87,\n",
              "        88,  89,  90,  91,  92,  93,  94,  95,  96,  97,  98,  99, 100,\n",
              "       101, 102, 103, 104, 105, 106, 107, 108, 109, 110, 111, 112, 113,\n",
              "       114, 115, 116, 117, 118, 119, 120, 121, 122, 123, 124, 125, 126,\n",
              "       127, 128, 129, 130, 131, 132, 133, 134, 135, 136, 137, 138, 139,\n",
              "       140, 141, 142, 143, 144, 145, 146, 147, 148, 149, 150, 151, 152,\n",
              "       153, 154, 155, 156, 157, 158, 159, 160, 161, 162, 163, 164, 165,\n",
              "       166, 167, 168, 169, 170, 171, 172, 173, 174, 175, 176, 177, 178,\n",
              "       179,   0,   1,   2,   3,   4,   5,   6,   7,   8,   9,  10,  11,\n",
              "        12,  13,  14,  15,  16,  17,  18,  19,  20,  21,  22,  23,  24,\n",
              "        25,  26,  27,  28,  29,  30,  31,  32,  33,  34,  35,  36,  37,\n",
              "        38,  39,  40,  41,  42,  43,  44,  45,  46,  47,  48,  49,  50,\n",
              "        51,  52,  53,  54,  55,  56,  57,  58,  59,  60,  61,  62,  63,\n",
              "        64,  65,  66,  67,  68,  69,  70,  71,  72,  73,  74])"
            ]
          },
          "execution_count": 9,
          "metadata": {},
          "output_type": "execute_result"
        }
      ],
      "source": [
        "test_array= np.arange(180)\n",
        "test_array+=75\n",
        "test_array=test_array%180\n",
        "test_array"
      ]
    },
    {
      "cell_type": "code",
      "execution_count": 15,
      "metadata": {
        "id": "QwytRavNefqc"
      },
      "outputs": [],
      "source": [
        "def extract_charges(img,val_img=None):\n",
        "  img=cv2.cvtColor(img.copy(),cv2.COLOR_BGR2HSV)\n",
        "  \n",
        "  if type(val_img)!=type(None):\n",
        "    valarray=cv2.cv2Color(val_img.copy(),cv2.COLOR_BGR2GRAY)/255\n",
        "  else:\n",
        "    valarray=np.ones(img[:,:,0].shape)\n",
        "   \n",
        "  bluemask=cv2.inRange(img, (80,125,125), (130,255,255))\n",
        "  redmaskimg=img\n",
        "  redmaskimg[:,:,0]+=75\n",
        "  redmaskimg[:,:,0]=redmaskimg[:,:,0]%180\n",
        "  redmask=cv2.inRange(redmaskimg,(65,125,125),(85,255,255))\n",
        "  #cv2_imshow(redmask)\n",
        "  #cv2_imshow(bluemask)\n",
        "  #pos_charge_img=redmask*valarray\n",
        "  #neg_charge_img=redmask*valarray*(-1)\n",
        "  charges=[]\n",
        "  neg_c=np.array(np.where(bluemask!=0))\n",
        "  for i in range(neg_c.shape[1]):\n",
        "    coords=neg_c[:,i]\n",
        "    charges.append([coords[1],bluemask.shape[0]-coords[0]-1,valarray[coords[0],coords[1]]*-1])\n",
        "  pos_c=np.array(np.where(redmask!=0))\n",
        "  for i in range(neg_c.shape[1]):\n",
        "    coords=pos_c[:,i]\n",
        "    charges.append([coords[1],bluemask.shape[0]-coords[0]-1,valarray[coords[0],coords[1]]])\n",
        "  return np.array(charges)\n",
        "  \n",
        "#%lprun -f extract_charges extract_charges(testimg)"
      ]
    },
    {
      "cell_type": "code",
      "execution_count": null,
      "metadata": {
        "colab": {
          "base_uri": "https://localhost:8080/",
          "height": 117
        },
        "id": "fBhhoyAO4caF",
        "outputId": "25a7dfbc-2f5c-4322-fbf6-5a4122106574"
      },
      "outputs": [
        {
          "data": {
            "image/png": "[encoded data removed]",
            "text/plain": [
              "<PIL.Image.Image image mode=L size=200x100 at 0x7F5090A742D0>"
            ]
          },
          "metadata": {},
          "output_type": "display_data"
        }
      ],
      "source": [
        "testimgarray=np.ones((100,200))\n",
        "cv2_imshow(testimgarray)"
      ]
    },
    {
      "cell_type": "code",
      "execution_count": 10,
      "metadata": {
        "id": "OWdhF5F504Ea"
      },
      "outputs": [],
      "source": [
        "def distribute_line_charges(img,res_x,res_y=None):\n",
        "  if type(res_y)==type(None):\n",
        "    res_y=res_x\n",
        "  \n",
        "  x_coords=((np.arange(res_x)+.5)/res_x)*img.shape[1]\n",
        "  y_coords=((np.arange(res_y)+.5)/res_y)*img.shape[0]\n",
        "  lines=np.array(np.meshgrid(x_coords,y_coords,(-1,1))).T.reshape(-1,3)\n",
        "  return lines\n",
        "#%lprun -f distribute_line_charges distribute_line_charges(testimg,10)\n"
      ]
    },
    {
      "cell_type": "code",
      "execution_count": 81,
      "metadata": {
        "colab": {
          "base_uri": "https://localhost:8080/",
          "height": 320
        },
        "id": "3GYlfZpf8LDA",
        "outputId": "3109a4d5-e1ca-4adc-997f-6f041c5002c3"
      },
      "outputs": [
        {
          "name": "stdout",
          "output_type": "stream",
          "text": [
            "200\n"
          ]
        },
        {
          "name": "stderr",
          "output_type": "stream",
          "text": [
            "/usr/local/lib/python3.7/dist-packages/ipykernel_launcher.py:30: VisibleDeprecationWarning: Creating an ndarray from ragged nested sequences (which is a list-or-tuple of lists-or-tuples-or ndarrays with different lengths or shapes) is deprecated. If you meant to do this, you must specify 'dtype=object' when creating the ndarray.\n"
          ]
        },
        {
          "data": {
            "image/png": "[encoded data removed]",
            "text/plain": [
              "<Figure size 432x288 with 1 Axes>"
            ]
          },
          "metadata": {
            "needs_background": "light"
          },
          "output_type": "display_data"
        }
      ],
      "source": [
        "def display_lines_from_img(img,res_x,res_y=None,sim_scale=100,val_img=None,line_length=1000,Timescale=1,Linemode=True,markersize=.1,linewidth=.2,marker=\",\"):\n",
        "  TIMESCALE=Timescale\n",
        "\n",
        "\n",
        "  scale_percent = 60 # percent of original size\n",
        "  width = int(img.shape[1] * sim_scale / 100)\n",
        "  height = int(img.shape[0] * sim_scale / 100)\n",
        "  dim = (width, height)\n",
        "  img = cv2.resize(img.copy(), dim, interpolation = cv2.INTER_AREA)\n",
        "\n",
        "  stationary_charges=extract_charges(img.copy(),val_img)\n",
        "  line_charges=distribute_line_charges(img.copy(),res_x,res_y)\n",
        "  lines=np.array(compute_lines(stationary_charges,line_charges,line_length))\n",
        "  neg,pos=np.split(stationary_charges,2)\n",
        "  plt.plot(pos[:,0], pos[:,1],\"o\" ,color=rgb((1.,1.,1.)))\n",
        "  plt.plot(neg[:,0], neg[:,1],\"o\" ,color=rgb((2/3,1.,1.)))\n",
        "  #print(lines)\n",
        "  #lines=lines.flatten()#lines.reshape((int(len(lines.flatten())/3),3))\n",
        "  for line in lines:\n",
        "    if len(line)>0:\n",
        "      nl=[]\n",
        "      for el in line:\n",
        "        if not (el[0]>img.shape[0]or el[1]>img.shape[1]or el[0]<0 or el[1]<0):\n",
        "          nl.append([el[0],el[1]])\n",
        "      nl=np.array(nl)\n",
        "      #print(nl)\n",
        "      if Linemode:\n",
        "        plt.plot(nl[:,0], nl[:,1],color=\"black\",linestyle='-', linewidth=linewidth)\n",
        "      else:  \n",
        "        plt.plot(nl[:,0], nl[:,1],marker,color=\"black\",markersize=markersize)\n",
        "\n",
        "  plt.show()\n",
        "\n",
        "display_lines_from_img(testimg,10,line_length=1000,sim_scale=10,Timescale=.1,Linemode=False,marker=\"o\",markersize=.01)\n",
        "\n"
      ]
    },
    {
      "cell_type": "code",
      "execution_count": null,
      "metadata": {
        "colab": {
          "base_uri": "https://localhost:8080/",
          "height": 166
        },
        "id": "hXUFl9Zx5DCS",
        "outputId": "749ee6a6-4d64-460e-b96f-4e1f818b6c95"
      },
      "outputs": [
        {
          "ename": "NameError",
          "evalue": "ignored",
          "output_type": "error",
          "traceback": [
            "\u001b[0;31m---------------------------------------------------------------------------\u001b[0m",
            "\u001b[0;31mNameError\u001b[0m                                 Traceback (most recent call last)",
            "\u001b[0;32m<ipython-input-10-0bb4bdaab381>\u001b[0m in \u001b[0;36m<module>\u001b[0;34m\u001b[0m\n\u001b[0;32m----> 1\u001b[0;31m \u001b[0mlines\u001b[0m\u001b[0;34m\u001b[0m\u001b[0;34m\u001b[0m\u001b[0m\n\u001b[0m",
            "\u001b[0;31mNameError\u001b[0m: name 'lines' is not defined"
          ]
        }
      ],
      "source": []
    }
  ],
  "metadata": {
    "colab": {
      "collapsed_sections": [],
      "include_colab_link": true,
      "provenance": []
    },
    "kernelspec": {
      "display_name": "Python 3.9.12 ('tf-gpu')",
      "language": "python",
      "name": "python3"
    },
    "language_info": {
      "codemirror_mode": {
        "name": "ipython",
        "version": 3
      },
      "file_extension": ".py",
      "mimetype": "text/x-python",
      "name": "python",
      "nbconvert_exporter": "python",
      "pygments_lexer": "ipython3",
      "version": "3.9.12"
    },
    "orig_nbformat": 4,
    "vscode": {
      "interpreter": {
        "hash": "a74df09d5392a08c1cf5631e3aa550c87d26ec001deefbe740278a16a2655f99"
      }
    }
  },
  "nbformat": 4,
  "nbformat_minor": 0
}
