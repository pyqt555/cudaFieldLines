{
 "cells": [
  {
   "cell_type": "code",
   "execution_count": 1,
   "metadata": {},
   "outputs": [],
   "source": [
    "import numpy as np\n",
    "import numba \n",
    "import math\n",
    "import time\n",
    "import cv2 as cv2\n",
    "import matplotlib.pyplot as plt"
   ]
  },
  {
   "cell_type": "markdown",
   "metadata": {},
   "source": [
    "charge=[x,y,c]"
   ]
  },
  {
   "cell_type": "code",
   "execution_count": 2,
   "metadata": {},
   "outputs": [],
   "source": [
    "X=0\n",
    "Y=1\n",
    "C=2\n",
    "TIMESCALE=1\n",
    "E0=1"
   ]
  },
  {
   "cell_type": "code",
   "execution_count": 3,
   "metadata": {},
   "outputs": [],
   "source": [
    "def compute_force(c1,c2):\n",
    "\n",
    "    c_dir=c1[C]*c2[C]\n",
    "    dist=np.sqrt(np.square(c1[X]-c2[X])+np.square(c1[Y]-c2[Y]))\n",
    "    dir_vec=[c1[X]-c2[X],c1[Y]-c2[Y]]\n",
    "    dir_len=dist\n",
    "    norm_vec=[dir_vec[X]/dir_len,dir_vec[Y]/dir_len]\n",
    "    return_const=(1/(4*math.pi*np.square(dist)*E0))*TIMESCALE*c_dir\n",
    "    return_vec=[norm_vec[X]*return_const,norm_vec[Y]*return_const]\n",
    "    return return_vec\n"
   ]
  },
  {
   "cell_type": "code",
   "execution_count": 4,
   "metadata": {},
   "outputs": [
    {
     "name": "stdout",
     "output_type": "stream",
     "text": [
      "3.7 µs ± 71.1 ns per loop (mean ± std. dev. of 7 runs, 100,000 loops each)\n"
     ]
    }
   ],
   "source": [
    "%timeit compute_force([1,0,1],[-1,0,1])"
   ]
  },
  {
   "cell_type": "code",
   "execution_count": 32,
   "metadata": {},
   "outputs": [
    {
     "data": {
      "image/png": "[encoded data removed]",
      "text/plain": [
       "<Figure size 640x480 with 1 Axes>"
      ]
     },
     "metadata": {},
     "output_type": "display_data"
    },
    {
     "data": {
      "text/plain": [
       "array([[-1.13882007e-03,  5.00000000e+00, -1.00000000e+00],\n",
       "       [-2.27764016e-03,  4.99999984e+00, -1.00000000e+00],\n",
       "       [-3.41646032e-03,  4.99999953e+00, -1.00000000e+00],\n",
       "       ...,\n",
       "       [-2.06608288e+01, -1.11190656e+01, -1.00000000e+02],\n",
       "       [-1.00000000e+01,  0.00000000e+00, -1.00000000e+00],\n",
       "       [ 1.00000000e+01,  0.00000000e+00,  1.00000000e+00]])"
      ]
     },
     "execution_count": 32,
     "metadata": {},
     "output_type": "execute_result"
    }
   ],
   "source": [
    "lst=[]\n",
    "testcharge=[0,5,-1]\n",
    "for i in range(4630):\n",
    "    testcharge_dir=compute_force(testcharge,[-10,0,1])\n",
    "    testcharge_dir_2=compute_force(testcharge,[10,0,-1])\n",
    "    testcharge=[testcharge_dir[X]+testcharge[X]+testcharge_dir_2[X],testcharge_dir[Y]+testcharge[Y]+testcharge_dir_2[Y],testcharge[C]]\n",
    "    \n",
    "   \n",
    "    lst.append(testcharge)\n",
    "testcharge=[0,5,1]\n",
    "for i in range(4630):\n",
    "    testcharge_dir=compute_force(testcharge,[-10,0,1])\n",
    "    testcharge_dir_2=compute_force(testcharge,[10,0,-1])\n",
    "    testcharge=[testcharge_dir[X]+testcharge[X]+testcharge_dir_2[X],testcharge_dir[Y]+testcharge[Y]+testcharge_dir_2[Y],testcharge[C]]\n",
    "    \n",
    "   \n",
    "    lst.append(testcharge)\n",
    "testcharge=[0,2.5,-1]\n",
    "for i in range(3364):\n",
    "    testcharge_dir=compute_force(testcharge,[-10,0,1])\n",
    "    testcharge_dir_2=compute_force(testcharge,[10,0,-1])\n",
    "    testcharge=[testcharge_dir[X]+testcharge[X]+testcharge_dir_2[X],testcharge_dir[Y]+testcharge[Y]+testcharge_dir_2[Y],testcharge[C]]\n",
    "    \n",
    "   \n",
    "    lst.append(testcharge)\n",
    "testcharge=[0,2.5,1]\n",
    "for i in range(3364):\n",
    "    testcharge_dir=compute_force(testcharge,[-10,0,1])\n",
    "    testcharge_dir_2=compute_force(testcharge,[10,0,-1])\n",
    "    testcharge=[testcharge_dir[X]+testcharge[X]+testcharge_dir_2[X],testcharge_dir[Y]+testcharge[Y]+testcharge_dir_2[Y],testcharge[C]]\n",
    "    \n",
    "   \n",
    "    lst.append(testcharge)\n",
    "## underside\n",
    "testcharge=[0,-5,-1]\n",
    "for i in range(4630):\n",
    "    testcharge_dir=compute_force(testcharge,[-10,0,1])\n",
    "    testcharge_dir_2=compute_force(testcharge,[10,0,-1])\n",
    "    testcharge=[testcharge_dir[X]+testcharge[X]+testcharge_dir_2[X],testcharge_dir[Y]+testcharge[Y]+testcharge_dir_2[Y],testcharge[C]]\n",
    "    \n",
    "   \n",
    "    lst.append(testcharge)\n",
    "testcharge=[0,-5,1]\n",
    "for i in range(4630):\n",
    "    testcharge_dir=compute_force(testcharge,[-10,0,1])\n",
    "    testcharge_dir_2=compute_force(testcharge,[10,0,-1])\n",
    "    testcharge=[testcharge_dir[X]+testcharge[X]+testcharge_dir_2[X],testcharge_dir[Y]+testcharge[Y]+testcharge_dir_2[Y],testcharge[C]]\n",
    "    \n",
    "   \n",
    "    lst.append(testcharge)\n",
    "testcharge=[0,-80,100]\n",
    "for i in range(121400):\n",
    "    testcharge_dir=compute_force(testcharge,[-10,0,1])\n",
    "    testcharge_dir_2=compute_force(testcharge,[10,0,-1])\n",
    "    testcharge=[testcharge_dir[X]+testcharge[X]+testcharge_dir_2[X],testcharge_dir[Y]+testcharge[Y]+testcharge_dir_2[Y],testcharge[C]]\n",
    "    \n",
    "   \n",
    "    lst.append(testcharge)\n",
    "testcharge=[0,-80,-100]\n",
    "for i in range(121400):\n",
    "    testcharge_dir=compute_force(testcharge,[-10,0,1])\n",
    "    testcharge_dir_2=compute_force(testcharge,[10,0,-1])\n",
    "    testcharge=[testcharge_dir[X]+testcharge[X]+testcharge_dir_2[X],testcharge_dir[Y]+testcharge[Y]+testcharge_dir_2[Y],testcharge[C]]\n",
    "    \n",
    "   \n",
    "    lst.append(testcharge)\n",
    "## plot\n",
    "\n",
    "lst.append([-10,0,-1])\n",
    "lst.append([10,0,1])\n",
    "lst=np.array(lst)\n",
    "plt.plot(lst[:,0], lst[:,1],\",\")\n",
    "plt.show()\n",
    "lst"
   ]
  },
  {
   "cell_type": "markdown",
   "metadata": {},
   "source": [
    "Numba Implementation(slow and wrong)"
   ]
  },
  {
   "cell_type": "code",
   "execution_count": 6,
   "metadata": {},
   "outputs": [],
   "source": [
    "\n",
    "@numba.vectorize([\"float64(float64,float64,float64,float64,float64,float64)\"])\n",
    "def compute_forces(c1,c2,x1,x2,y1,y2):\n",
    "    c_dir=c1*c2\n",
    "    dist=(((x1-x2)**2)+((y1-y2)**2))**.5\n",
    "    dir_vec=[x1-x2,y1-y2]\n",
    "    dir_len=dist\n",
    "    norm_vec=[dir_vec[X]/dir_len,dir_vec[Y]/dir_len]\n",
    "    return_const=(1/(4*math.pi*(dist**2)*E0))*TIMESCALE*c_dir\n",
    "    return_vec=[norm_vec[X]*return_const,norm_vec[Y]*return_const]\n",
    "    return return_vec[0]"
   ]
  },
  {
   "cell_type": "code",
   "execution_count": 7,
   "metadata": {},
   "outputs": [
    {
     "data": {
      "text/plain": [
       "['dddddd->d']"
      ]
     },
     "execution_count": 7,
     "metadata": {},
     "output_type": "execute_result"
    }
   ],
   "source": [
    "compute_forces.ufunc.types"
   ]
  },
  {
   "cell_type": "code",
   "execution_count": 8,
   "metadata": {},
   "outputs": [
    {
     "name": "stdout",
     "output_type": "stream",
     "text": [
      "24.9 ms ± 272 µs per loop (mean ± std. dev. of 7 runs, 10 loops each)\n"
     ]
    }
   ],
   "source": [
    "test=np.random.random((6,100000))\n",
    "\n",
    "\n",
    "%timeit compute_forces(*test)"
   ]
  },
  {
   "cell_type": "markdown",
   "metadata": {},
   "source": [
    "Numba (fast)"
   ]
  },
  {
   "cell_type": "code",
   "execution_count": 97,
   "metadata": {},
   "outputs": [],
   "source": [
    "from numba import float64\n",
    "@numba.guvectorize([(float64[:],float64[:],float64[:])], '(n),(n)->(n)')\n",
    "def compute_force_guv(c1,c2,res):\n",
    "    c_dir=c1[C]*c2[C]\n",
    "    dist=((c1[X]-c2[X])**2+(c1[Y]-c2[Y])**2)**.5\n",
    "    dir_vec=[c1[X]-c2[X],c1[Y]-c2[Y]]\n",
    "    dir_len=dist\n",
    "    norm_vec=[dir_vec[X]/dir_len,dir_vec[Y]/dir_len]\n",
    "    return_const=(1/(4*math.pi*(dist**2)*E0))*TIMESCALE*c_dir\n",
    "    res[:]=[norm_vec[X]*return_const,norm_vec[Y]*return_const,0]\n",
    "    #print(res)"
   ]
  },
  {
   "cell_type": "code",
   "execution_count": 229,
   "metadata": {},
   "outputs": [
    {
     "ename": "ValueError",
     "evalue": "cannot assign slice from input of different size",
     "output_type": "error",
     "traceback": [
      "\u001b[1;31m---------------------------------------------------------------------------\u001b[0m",
      "\u001b[1;31mValueError\u001b[0m                                Traceback (most recent call last)",
      "Cell \u001b[1;32mIn [229], line 4\u001b[0m\n\u001b[0;32m      1\u001b[0m test\u001b[38;5;241m=\u001b[39mnp\u001b[38;5;241m.\u001b[39mrandom\u001b[38;5;241m.\u001b[39mrandom((\u001b[38;5;241m3\u001b[39m,\u001b[38;5;241m2\u001b[39m,\u001b[38;5;241m100\u001b[39m))\n\u001b[1;32m----> 4\u001b[0m \u001b[43mget_ipython\u001b[49m\u001b[43m(\u001b[49m\u001b[43m)\u001b[49m\u001b[38;5;241;43m.\u001b[39;49m\u001b[43mrun_line_magic\u001b[49m\u001b[43m(\u001b[49m\u001b[38;5;124;43m'\u001b[39;49m\u001b[38;5;124;43mtimeit\u001b[39;49m\u001b[38;5;124;43m'\u001b[39;49m\u001b[43m,\u001b[49m\u001b[43m \u001b[49m\u001b[38;5;124;43m'\u001b[39;49m\u001b[38;5;124;43mcompute_force_guv(*test)\u001b[39;49m\u001b[38;5;124;43m'\u001b[39;49m\u001b[43m)\u001b[49m\n",
      "File \u001b[1;32mc:\\Users\\bjste\\.conda\\envs\\tf-gpu\\lib\\site-packages\\IPython\\core\\interactiveshell.py:2309\u001b[0m, in \u001b[0;36mInteractiveShell.run_line_magic\u001b[1;34m(self, magic_name, line, _stack_depth)\u001b[0m\n\u001b[0;32m   2307\u001b[0m     kwargs[\u001b[39m'\u001b[39m\u001b[39mlocal_ns\u001b[39m\u001b[39m'\u001b[39m] \u001b[39m=\u001b[39m \u001b[39mself\u001b[39m\u001b[39m.\u001b[39mget_local_scope(stack_depth)\n\u001b[0;32m   2308\u001b[0m \u001b[39mwith\u001b[39;00m \u001b[39mself\u001b[39m\u001b[39m.\u001b[39mbuiltin_trap:\n\u001b[1;32m-> 2309\u001b[0m     result \u001b[39m=\u001b[39m fn(\u001b[39m*\u001b[39margs, \u001b[39m*\u001b[39m\u001b[39m*\u001b[39mkwargs)\n\u001b[0;32m   2310\u001b[0m \u001b[39mreturn\u001b[39;00m result\n",
      "File \u001b[1;32mc:\\Users\\bjste\\.conda\\envs\\tf-gpu\\lib\\site-packages\\IPython\\core\\magics\\execution.py:1162\u001b[0m, in \u001b[0;36mExecutionMagics.timeit\u001b[1;34m(self, line, cell, local_ns)\u001b[0m\n\u001b[0;32m   1160\u001b[0m \u001b[39mfor\u001b[39;00m index \u001b[39min\u001b[39;00m \u001b[39mrange\u001b[39m(\u001b[39m0\u001b[39m, \u001b[39m10\u001b[39m):\n\u001b[0;32m   1161\u001b[0m     number \u001b[39m=\u001b[39m \u001b[39m10\u001b[39m \u001b[39m*\u001b[39m\u001b[39m*\u001b[39m index\n\u001b[1;32m-> 1162\u001b[0m     time_number \u001b[39m=\u001b[39m timer\u001b[39m.\u001b[39;49mtimeit(number)\n\u001b[0;32m   1163\u001b[0m     \u001b[39mif\u001b[39;00m time_number \u001b[39m>\u001b[39m\u001b[39m=\u001b[39m \u001b[39m0.2\u001b[39m:\n\u001b[0;32m   1164\u001b[0m         \u001b[39mbreak\u001b[39;00m\n",
      "File \u001b[1;32mc:\\Users\\bjste\\.conda\\envs\\tf-gpu\\lib\\site-packages\\IPython\\core\\magics\\execution.py:156\u001b[0m, in \u001b[0;36mTimer.timeit\u001b[1;34m(self, number)\u001b[0m\n\u001b[0;32m    154\u001b[0m gc\u001b[39m.\u001b[39mdisable()\n\u001b[0;32m    155\u001b[0m \u001b[39mtry\u001b[39;00m:\n\u001b[1;32m--> 156\u001b[0m     timing \u001b[39m=\u001b[39m \u001b[39mself\u001b[39;49m\u001b[39m.\u001b[39;49minner(it, \u001b[39mself\u001b[39;49m\u001b[39m.\u001b[39;49mtimer)\n\u001b[0;32m    157\u001b[0m \u001b[39mfinally\u001b[39;00m:\n\u001b[0;32m    158\u001b[0m     \u001b[39mif\u001b[39;00m gcold:\n",
      "File \u001b[1;32m<magic-timeit>:1\u001b[0m, in \u001b[0;36minner\u001b[1;34m(_it, _timer)\u001b[0m\n",
      "File \u001b[1;32mc:\\Users\\bjste\\.conda\\envs\\tf-gpu\\lib\\site-packages\\numba\\np\\ufunc\\gufunc.py:170\u001b[0m, in \u001b[0;36mGUFunc.__call__\u001b[1;34m(self, *args, **kwargs)\u001b[0m\n\u001b[0;32m    166\u001b[0m \u001b[39mdef\u001b[39;00m \u001b[39m__call__\u001b[39m(\u001b[39mself\u001b[39m, \u001b[39m*\u001b[39margs, \u001b[39m*\u001b[39m\u001b[39m*\u001b[39mkwargs):\n\u001b[0;32m    167\u001b[0m     \u001b[39m# If compilation is disabled OR it is NOT a dynamic gufunc\u001b[39;00m\n\u001b[0;32m    168\u001b[0m     \u001b[39m# call the underlying gufunc\u001b[39;00m\n\u001b[0;32m    169\u001b[0m     \u001b[39mif\u001b[39;00m \u001b[39mself\u001b[39m\u001b[39m.\u001b[39m_frozen \u001b[39mor\u001b[39;00m \u001b[39mnot\u001b[39;00m \u001b[39mself\u001b[39m\u001b[39m.\u001b[39mis_dynamic:\n\u001b[1;32m--> 170\u001b[0m         \u001b[39mreturn\u001b[39;00m \u001b[39mself\u001b[39m\u001b[39m.\u001b[39mufunc(\u001b[39m*\u001b[39margs, \u001b[39m*\u001b[39m\u001b[39m*\u001b[39mkwargs)\n\u001b[0;32m    171\u001b[0m     \u001b[39melif\u001b[39;00m \u001b[39m\"\u001b[39m\u001b[39mout\u001b[39m\u001b[39m\"\u001b[39m \u001b[39min\u001b[39;00m kwargs:\n\u001b[0;32m    172\u001b[0m         \u001b[39m# If \"out\" argument is supplied\u001b[39;00m\n\u001b[0;32m    173\u001b[0m         args \u001b[39m+\u001b[39m\u001b[39m=\u001b[39m (kwargs\u001b[39m.\u001b[39mpop(\u001b[39m\"\u001b[39m\u001b[39mout\u001b[39m\u001b[39m\"\u001b[39m),)\n",
      "\u001b[1;31mValueError\u001b[0m: cannot assign slice from input of different size"
     ]
    }
   ],
   "source": [
    "test=np.random.random((3,2,100))\n",
    "\n",
    "\n",
    "%timeit compute_force_guv(*test)"
   ]
  },
  {
   "cell_type": "code",
   "execution_count": 54,
   "metadata": {},
   "outputs": [
    {
     "data": {
      "text/plain": [
       "'(n),(n)->(n)'"
      ]
     },
     "execution_count": 54,
     "metadata": {},
     "output_type": "execute_result"
    }
   ],
   "source": [
    "compute_force_guv.ufunc.signature"
   ]
  },
  {
   "cell_type": "code",
   "execution_count": 240,
   "metadata": {},
   "outputs": [
    {
     "data": {
      "text/plain": [
       "array([[-0.02813488, -0.02813488],\n",
       "       [ 0.02813488,  0.02813488]])"
      ]
     },
     "execution_count": 240,
     "metadata": {},
     "output_type": "execute_result"
    }
   ],
   "source": [
    "test2=np.array([[[1,1,1],[2,2,2]]],dtype=\"float64\")\n",
    "res=np.zeros((2,3))\n",
    "def compute_vectors_guv_fixed_output(non_statics,statics):\n",
    "    return compute_force_guv(non_statics,statics,np.zeros((statics.shape[0],3)))[:2,:2]\n",
    "\n",
    "compute_vectors_guv_fixed_output(np.array([[0,0,1],[0,0,1]]),np.array([[1,1,1],[1,1,-1]]))"
   ]
  },
  {
   "cell_type": "code",
   "execution_count": null,
   "metadata": {},
   "outputs": [],
   "source": [
    "\n",
    "%timeit compute_vectors_guv_fixed_output(np.random.random((10000,3)),np.random.random((10000,3)))"
   ]
  },
  {
   "cell_type": "code",
   "execution_count": null,
   "metadata": {},
   "outputs": [],
   "source": [
    "def extract_charges(img):\n",
    "    i=cv2.imread(img,0)\n",
    "\n",
    "\n",
    "\n",
    "\n",
    "\n",
    "\n",
    "\n",
    "\n",
    "    \n"
   ]
  }
 ],
 "metadata": {
  "kernelspec": {
   "display_name": "Python 3.9.12 ('tf-gpu')",
   "language": "python",
   "name": "python3"
  },
  "language_info": {
   "codemirror_mode": {
    "name": "ipython",
    "version": 3
   },
   "file_extension": ".py",
   "mimetype": "text/x-python",
   "name": "python",
   "nbconvert_exporter": "python",
   "pygments_lexer": "ipython3",
   "version": "3.9.12"
  },
  "orig_nbformat": 4,
  "vscode": {
   "interpreter": {
    "hash": "a74df09d5392a08c1cf5631e3aa550c87d26ec001deefbe740278a16a2655f99"
   }
  }
 },
 "nbformat": 4,
 "nbformat_minor": 2
}
