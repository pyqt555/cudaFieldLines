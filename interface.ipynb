{
  "cells": [
    {
      "cell_type": "markdown",
      "metadata": {
        "id": "view-in-github",
        "colab_type": "text"
      },
      "source": [
        "<a href=\"https://colab.research.google.com/github/pyqt555/cudaFieldLines/blob/master/interface.ipynb\" target=\"_parent\"><img src=\"https://colab.research.google.com/assets/colab-badge.svg\" alt=\"Open In Colab\"/></a>"
      ]
    },
    {
      "cell_type": "code",
      "execution_count": 26,
      "metadata": {
        "cellView": "form",
        "id": "J1eAj4Tmk4vv"
      },
      "outputs": [],
      "source": [
        "#@title Setup\n",
        "import numpy as np\n",
        "import numba\n",
        "from numba import float64\n",
        "import math\n",
        "import time\n",
        "import cv2 as cv2\n",
        "import matplotlib.pyplot as plt\n",
        "from matplotlib.colors import hsv_to_rgb as rgb\n",
        "import os\n",
        "try:\n",
        "    from google.colab.patches import cv2_imshow\n",
        "except:\n",
        "    print(\"Not running on Colab, replace cv2_imshow with cv2.imshow()\")\n",
        "from joblib import Parallel, delayed\n",
        "from multiprocessing.dummy import Pool as ThreadPool\n",
        "import itertools\n",
        "\n",
        "X=0\n",
        "Y=1\n",
        "C=2\n",
        "TIMESCALE=10.2 #@param {type:\"slider\",min:0.01,max:100,step:0.01}\n",
        "UsE0 =False #@param {type:\"boolean\"}\n",
        "if UsE0:\n",
        "  E0=8.8541878128*(10**(-12))\n",
        "else:\n",
        "  E0=1\n",
        "\n",
        "@numba.guvectorize([(float64[:],float64[:],float64[:])], '(n),(n)->(n)',target=\"parallel\")\n",
        "def compute_force_guv(c1,c2,res):\n",
        "    c_dir=c1[C]*c2[C]\n",
        "    dist=((c1[X]-c2[X])**2+(c1[Y]-c2[Y])**2)**.5\n",
        "    dir_vec=[c1[X]-c2[X],c1[Y]-c2[Y]]\n",
        "    dir_len=dist\n",
        "    norm_vec=[dir_vec[X]/dir_len,dir_vec[Y]/dir_len]\n",
        "    return_const=(1/(4*math.pi*(dist**2)*E0))*TIMESCALE*c_dir*(-1)#-1 for correct direction\n",
        "    res[:]=[norm_vec[X]*return_const,norm_vec[Y]*return_const,0]\n",
        "\n",
        "\n",
        "@numba.jit\n",
        "def compute_vectors_guv_fixed_output(non_statics,statics):\n",
        "    f=compute_force_guv(non_statics,statics,np.zeros((statics.shape[0],3)))[:,:2]\n",
        "    return np.array([np.sum(f[:,0]),np.sum(f[:,1])])\n",
        "#@numba.jit\n",
        "def compute_line(testcharge,line_length,statics):\n",
        "  #print(\"new Charge\")\n",
        "  positions=[]\n",
        "  for i in range(int(line_length)):\n",
        "        #if i%100==0:\n",
        "        #  print(i)\n",
        "        testcharge_dir=compute_vectors_guv_fixed_output([testcharge],statics)\n",
        "        \n",
        "        testcharge=[testcharge[X]+testcharge_dir[X],testcharge[Y]+testcharge_dir[Y],testcharge[C]]\n",
        "        \n",
        "        if (testcharge_dir[X]**2+testcharge_dir[Y]**2) >(1*TIMESCALE)**2:\n",
        "          #print(i)\n",
        "          #print(np.sum(testcharge_dir**2))\n",
        "          break\n",
        "   \n",
        "        positions.append(testcharge)\n",
        "  #print(\"computed\")\n",
        "  return positions\n",
        "\n",
        "def compute_lines(statics,nonstatics,line_length=1000):\n",
        "    nonstatics=nonstatics.copy()\n",
        "    positions=[]\n",
        "    pool = ThreadPool(int((nonstatics.shape[0]/2)+0.999))\n",
        "    print(nonstatics.shape[0])\n",
        "    results = pool.starmap(compute_line, zip(nonstatics,itertools.repeat(line_length),itertools.repeat(statics)))\n",
        "    pool.close()\n",
        "    pool.join()\n",
        "    #results=compute_line(nonstatics[0],line_length,statics)\n",
        "    return np.array(results)\n",
        "\n",
        "def extract_charges(img,val_img=None):\n",
        "  img=cv2.cvtColor(img.copy(),cv2.COLOR_BGR2HSV)\n",
        "  \n",
        "  if type(val_img)!=type(None):\n",
        "    valarray=cv2.cv2Color(val_img.copy(),cv2.COLOR_BGR2GRAY)/255\n",
        "  else:\n",
        "    valarray=np.ones(img[:,:,0].shape)\n",
        "   \n",
        "  bluemask=cv2.inRange(img, (80,125,125), (130,255,255))\n",
        "  redmaskimg=img\n",
        "  redmaskimg[:,:,0]+=75\n",
        "  redmaskimg[:,:,0]=redmaskimg[:,:,0]%180\n",
        "  redmask=cv2.inRange(redmaskimg,(65,125,125),(85,255,255))\n",
        "  #cv2_imshow(redmask)\n",
        "  #cv2_imshow(bluemask)\n",
        "  #pos_charge_img=redmask*valarray\n",
        "  #neg_charge_img=redmask*valarray*(-1)\n",
        "  charges=[]\n",
        "  neg_c=np.array(np.where(bluemask!=0))\n",
        "  for i in range(neg_c.shape[1]):\n",
        "    coords=neg_c[:,i]\n",
        "    charges.append([coords[1],bluemask.shape[0]-coords[0]-1,valarray[coords[0],coords[1]]*-1])\n",
        "  pos_c=np.array(np.where(redmask!=0))\n",
        "  for i in range(neg_c.shape[1]):\n",
        "    coords=pos_c[:,i]\n",
        "    charges.append([coords[1],bluemask.shape[0]-coords[0]-1,valarray[coords[0],coords[1]]])\n",
        "  return np.array(charges)\n",
        "\n",
        "def distribute_line_charges(img,res_x,res_y=None):\n",
        "  if type(res_y)==type(None):\n",
        "    res_y=res_x\n",
        "  \n",
        "  x_coords=((np.arange(res_x)+.5)/res_x)*img.shape[1]\n",
        "  y_coords=((np.arange(res_y)+.5)/res_y)*img.shape[0]\n",
        "  lines=np.array(np.meshgrid(x_coords,y_coords,(-1,1))).T.reshape(-1,3)\n",
        "  return lines"
      ]
    },
    {
      "cell_type": "code",
      "source": [
        "#@title Display Files\n",
        "print(os.listdir())"
      ],
      "metadata": {
        "cellView": "form",
        "id": "HNdZsrWYqKr8",
        "outputId": "e9a828dd-9572-4470-bc69-4197940ef864",
        "colab": {
          "base_uri": "https://localhost:8080/"
        }
      },
      "execution_count": 16,
      "outputs": [
        {
          "output_type": "stream",
          "name": "stdout",
          "text": [
            "['.config', 'test.png', 'sample_data']\n"
          ]
        }
      ]
    },
    {
      "cell_type": "code",
      "source": [
        "#@title Load Image\n",
        "Filename = \"test.png\" #@param {type:\"string\"}\n",
        "image=cv2.imread(Filename)\n",
        "#@markdown \n",
        "Use_Value_Image = False #@param {type:\"boolean\"}\n",
        "#@markdown Whether every charge has the same value or one specified by an additional image(grayscale, white is 255/255, black is 0/255)\n",
        "if Use_Value_Image:\n",
        "  Val_Filename = \"val.png\" #@param {type:\"string\"}\n",
        "  #@markdown Ignore if above box is unchecked, else id filename for said image\n",
        "  val_image=cv2.imread(Val_Filename)\n",
        "else:\n",
        "  pass"
      ],
      "metadata": {
        "id": "1-9kYXgkqsgE"
      },
      "execution_count": 17,
      "outputs": []
    },
    {
      "cell_type": "code",
      "source": [
        "#@title Load Charges from Image\n",
        "#@markdown Scaling input image down for speed\n",
        "Scale = 28 #@param {type:\"slider\", min:0, max:200, step:1}\n",
        "\n",
        "width = int(image.shape[1] * Scale / 100)\n",
        "height = int(image.shape[0] * Scale / 100)\n",
        "dim = (width, height)\n",
        "img = cv2.resize(image.copy(), dim, interpolation = cv2.INTER_AREA)\n",
        "if Use_Value_Image:\n",
        "  val_image=cv2.resize(val_image.copy(), dim, interpolation = cv2.INTER_AREA)\n",
        "else:\n",
        "  val_image=None\n",
        "stationary_charges=extract_charges(img.copy(),val_image)\n",
        "#@markdown Distributing Lines\n",
        "lines_x = 7 #@param {type:\"integer\"}\n",
        "lines_y = 8 #@param {type:\"integer\"}\n",
        "line_charges=distribute_line_charges(img.copy(),lines_x,lines_y)\n",
        "for line_charge in line_charges:\n",
        "  \n",
        "  plt.plot(line_charge[0], line_charge[1],\"o\" ,color=rgb((1,1.,0.)))\n",
        "for stat_charge in stationary_charges:\n",
        "  if stat_charge[2]>0:\n",
        "    h=1\n",
        "  else:\n",
        "    h=2/3\n",
        "  plt.plot(stat_charge[0], stat_charge[1],\"o\" ,color=rgb((h,1.,1.)))\n",
        "plt.show()"
      ],
      "metadata": {
        "cellView": "form",
        "id": "RvK9eFcitfSX",
        "outputId": "910ebae0-3563-46ec-e93f-5f4de58577a7",
        "colab": {
          "base_uri": "https://localhost:8080/",
          "height": 265
        }
      },
      "execution_count": 63,
      "outputs": [
        {
          "output_type": "display_data",
          "data": {
            "text/plain": [
              "<Figure size 432x288 with 1 Axes>"
            ],
            "image/png": "[encoded data removed]"
          },
          "metadata": {
            "needs_background": "light"
          }
        }
      ]
    },
    {
      "cell_type": "code",
      "source": [
        "#@title Compute Lines\n",
        "Line_length = 2332 #@param {type:\"slider\", min:10, max:10000, step:1}\n",
        "lines=np.array(compute_lines(stationary_charges,line_charges,Line_length))"
      ],
      "metadata": {
        "cellView": "form",
        "id": "-wBz4wxwzK4e",
        "outputId": "5838c330-7cad-4e76-c5f6-8e42aed960ea",
        "colab": {
          "base_uri": "https://localhost:8080/"
        }
      },
      "execution_count": 60,
      "outputs": [
        {
          "output_type": "stream",
          "name": "stdout",
          "text": [
            "112\n"
          ]
        },
        {
          "output_type": "stream",
          "name": "stderr",
          "text": [
            "/usr/local/lib/python3.7/dist-packages/ipykernel_launcher.py:73: VisibleDeprecationWarning: Creating an ndarray from ragged nested sequences (which is a list-or-tuple of lists-or-tuples-or ndarrays with different lengths or shapes) is deprecated. If you meant to do this, you must specify 'dtype=object' when creating the ndarray.\n"
          ]
        }
      ]
    },
    {
      "cell_type": "code",
      "source": [
        "#@title Display Lines \n",
        "displayType = \"pixel\" #@param [\"pixel\", \"line\", \"circle\"]\n",
        "Circle_size = 0.062 #@param {type:\"slider\", min:0, max:2, step:0.001}\n",
        "Line_width = 0.08 #@param {type:\"slider\", min:0, max:2, step:0.001}\n",
        "if displayType==\"pixel\":\n",
        "  for line in lines:\n",
        "    if len(line)>0:\n",
        "      nl=[]\n",
        "      for el in line:\n",
        "        if not (el[0]>img.shape[0]or el[1]>img.shape[1]or el[0]<0 or el[1]<0):\n",
        "          nl.append([el[0],el[1]])\n",
        "      nl=np.array(nl)\n",
        "      #print(nl)\n",
        "     \n",
        "      plt.plot(nl[:,0], nl[:,1],\",\",color=\"black\")\n",
        "elif displayType==\"circle\":\n",
        "  for line in lines:\n",
        "    if len(line)>0:\n",
        "      nl=[]\n",
        "      for el in line:\n",
        "        if not (el[0]>img.shape[0]or el[1]>img.shape[1]or el[0]<0 or el[1]<0):\n",
        "          nl.append([el[0],el[1]])\n",
        "      nl=np.array(nl)\n",
        "      #print(nl)\n",
        "     \n",
        "      plt.plot(nl[:,0], nl[:,1],\"o\",color=\"black\",markersize=Circle_size)\n",
        "elif displayType==\"line\":\n",
        "  for line in lines:\n",
        "    if len(line)>0:\n",
        "      nl=[]\n",
        "      for el in line:\n",
        "        if not (el[0]>img.shape[0]or el[1]>img.shape[1]or el[0]<0 or el[1]<0):\n",
        "          nl.append([el[0],el[1]])\n",
        "      nl=np.array(nl)\n",
        "      #print(nl)\n",
        "     \n",
        "      plt.plot(nl[:,0], nl[:,1],color=\"black\",linestyle='-', linewidth=Line_width)\n",
        "for stat_charge in stationary_charges:\n",
        "  if stat_charge[2]>0:\n",
        "    h=1\n",
        "  else:\n",
        "    h=2/3\n",
        "  plt.plot(stat_charge[0], stat_charge[1],\"o\" ,color=rgb((h,1.,1.)))\n",
        "plt.show()\n",
        "      \n",
        "\n",
        "\n",
        "\n"
      ],
      "metadata": {
        "cellView": "form",
        "id": "9GqFRHdv0dK5",
        "outputId": "72e38ec2-a9f5-49d3-8b14-ca1daffdc871",
        "colab": {
          "base_uri": "https://localhost:8080/",
          "height": 265
        }
      },
      "execution_count": 61,
      "outputs": [
        {
          "output_type": "display_data",
          "data": {
            "text/plain": [
              "<Figure size 432x288 with 1 Axes>"
            ],
            "image/png": "[encoded data removed]"
          },
          "metadata": {
            "needs_background": "light"
          }
        }
      ]
    }
  ],
  "metadata": {
    "kernelspec": {
      "display_name": "Python 3.9.12 ('tf-gpu')",
      "language": "python",
      "name": "python3"
    },
    "language_info": {
      "codemirror_mode": {
        "name": "ipython",
        "version": 3
      },
      "file_extension": ".py",
      "mimetype": "text/x-python",
      "name": "python",
      "nbconvert_exporter": "python",
      "pygments_lexer": "ipython3",
      "version": "3.9.12"
    },
    "orig_nbformat": 4,
    "vscode": {
      "interpreter": {
        "hash": "a74df09d5392a08c1cf5631e3aa550c87d26ec001deefbe740278a16a2655f99"
      }
    },
    "colab": {
      "provenance": [],
      "include_colab_link": true
    }
  },
  "nbformat": 4,
  "nbformat_minor": 0
}